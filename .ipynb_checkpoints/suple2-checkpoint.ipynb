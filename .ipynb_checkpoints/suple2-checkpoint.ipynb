{
 "cells": [
  {
   "cell_type": "markdown",
   "id": "41a7c1be",
   "metadata": {},
   "source": [
    "<img src=\"data:image/png;base64,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\" width=300 height=240 />\n",
    "\n",
    "# EXAMEN RECUPERACION BIOINFORMTICA\n",
    "    \n",
    "## GBI6-2021II: BIOINFORMÁTICA\n",
    "\n",
    "**Benalcazar Mera, Andres Mateo**\n",
    "\n",
    "**17-08-2022**"
   ]
  },
  {
   "cell_type": "markdown",
   "id": "1ac186ab",
   "metadata": {},
   "source": [
    "## INTRODUCCION \n",
    "   El ribosoma es una organelo celular muy importante que se desembuelve sobretodo en el dogma central de la biologia, pues, al ser el encargado de traducir en mRNA en proteinas este permite que se desarrolle la vida como la conocemos [1]. Los ribosomas que sintetizan oproteinas en las mitocondrias son llamados mitoribozomas[2,3], estos son macroestructuras de origen genético dual, formadas por 3 componentes de ARN mitoribosómico codificados en el ADNmt y 89 componentes proteicos específicos codificados en el ADN nuclear [2]. Los mitoribozomas tiene mucho que ver dentro de la respiracion celular, de modo que si la celula llega a tener aulguna mutacion (cancer) son las encargadas de generar apoptósis y evitar la propagacion de la mutacion [3].\n",
    "<img src=\"https://www.greberlab.org/uploads/1/3/3/5/133583913/montage_orig.jpg\" width=300 height=240 />"
   ]
  },
  {
   "cell_type": "markdown",
   "id": "2c947eb3",
   "metadata": {},
   "source": [
    "## Ejercicio 1 [1 punto] \n",
    "### Crear un repositorio de nombre “2022I_Recuperacion”. Generar un Readme con los detalles de las actividades, del equipo utilizado y de los programas utilizados. Mantenga un control de cambios. "
   ]
  },
  {
   "cell_type": "markdown",
   "id": "3baea6ed",
   "metadata": {},
   "source": [
    "Enlace del repositorio: https://github.com/Andres-Mateo/2022I_Recuperacion"
   ]
  },
  {
   "cell_type": "markdown",
   "id": "9fc60342",
   "metadata": {},
   "source": [
    "## Ejercicio 2 [1 punto] \n",
    "#### Con el grupo de componentes ribosomales seleccionado, realizar una búsqueda con Python de la información para cada componente (formato gdb) y separar en secuencias para células humanas sanas y cancerosas."
   ]
  },
  {
   "cell_type": "code",
   "execution_count": 2,
   "id": "e2a65cbf",
   "metadata": {},
   "outputs": [],
   "source": [
    "from Bio import Entrez\n",
    "from Bio import SeqIO\n",
    "import re\n",
    "import os"
   ]
  },
  {
   "cell_type": "code",
   "execution_count": null,
   "id": "8a4fc382",
   "metadata": {},
   "outputs": [],
   "source": []
  },
  {
   "cell_type": "code",
   "execution_count": 3,
   "id": "4b47331c",
   "metadata": {},
   "outputs": [
    {
     "data": {
      "text/plain": [
       "'74'"
      ]
     },
     "execution_count": 3,
     "metadata": {},
     "output_type": "execute_result"
    }
   ],
   "source": [
    "Entrez.email = \"benalcazarmateo14@gmail.com\" \n",
    "with Entrez.efetch(db=\"nucleotide\", rettype=\"gbd\", retmode=\"text\", id=\"KP691608.1\") as handle:\n",
    "    seq_record = SeqIO.read(handle, \"gbd\")\n",
    "print(\"%s with %i features\" % (seq_record.id, len(seq_record.features)))\n",
    "seq_record.seq"
   ]
  },
  {
   "cell_type": "code",
   "execution_count": 4,
   "id": "4b973885",
   "metadata": {},
   "outputs": [],
   "source": [
    "webenv = record[\"WebEnv\"]\n",
    "query_key = record[\"QueryKey\"]"
   ]
  },
  {
   "cell_type": "code",
   "execution_count": 5,
   "id": "8ba64832",
   "metadata": {},
   "outputs": [],
   "source": [
    "handle = Entrez.efetch(db=\"pubmed\",\n",
    "                       rettype=\"medline\", \n",
    "                       retmode=\"text\", \n",
    "                       retstart=0,\n",
    "                       retmax=543, webenv=webenv, query_key=query_key)"
   ]
  },
  {
   "cell_type": "code",
   "execution_count": 6,
   "id": "aeb9302c",
   "metadata": {},
   "outputs": [],
   "source": [
    "out_handle = open(\"C:/Users/User/Documents/sexto_semestre/Bioinformatica/GitHub/gbi6g01_2022/Suple/cancer_MRPS.gdb\", \"w\")\n",
    "data = handle.read()\n",
    "handle.close()\n",
    "out_handle.write(data)\n",
    "out_handle.close()"
   ]
  },
  {
   "cell_type": "markdown",
   "id": "b36fb79b",
   "metadata": {},
   "source": [
    "Secuencias celulas sanas"
   ]
  },
  {
   "cell_type": "code",
   "execution_count": 8,
   "id": "a8f22bce",
   "metadata": {},
   "outputs": [
    {
     "data": {
      "text/plain": [
       "'C:\\\\Users\\\\User\\\\Documents\\\\sexto_semestre\\\\Bioinformatica\\\\GitHub\\\\gbi6g01_2022\\\\Suple'"
      ]
     },
     "execution_count": 8,
     "metadata": {},
     "output_type": "execute_result"
    }
   ],
   "source": [
    "#MRPS2\n",
    "Entrez.email = \"andres.benalcazar@est.ikiam.edu.ec\"\n",
    "hd1 = Entrez.efetch(db=\"nucleotide\",id=['NC_000009.12'],rettype='fasta')\n",
    "seq = SeqIO.read(hd1,'fasta')\n",
    "fw = open('seq_MRPS2.gdb','w')\n",
    "SeqIO.write(seq,fw,'fasta')\n",
    "fw.close()\n",
    "os.getcwd()"
   ]
  },
  {
   "cell_type": "code",
   "execution_count": 10,
   "id": "dc7e15e2",
   "metadata": {},
   "outputs": [
    {
     "data": {
      "text/plain": [
       "'C:\\\\Users\\\\User\\\\Documents\\\\sexto_semestre\\\\Bioinformatica\\\\GitHub\\\\gbi6g01_2022\\\\Suple'"
      ]
     },
     "execution_count": 10,
     "metadata": {},
     "output_type": "execute_result"
    }
   ],
   "source": [
    "#MRPS10\n",
    "Entrez.email = \"andres.benalcazar@est.ikiam.edu.ec\"\n",
    "hd1 = Entrez.efetch(db=\"nucleotide\",id=['NC_000006.12'],rettype='fasta')\n",
    "seq = SeqIO.read(hd1,'fasta')\n",
    "fw = open('seq_MRPS10.gdb','w')\n",
    "SeqIO.write(seq,fw,'fasta')\n",
    "fw.close()\n",
    "os.getcwd()"
   ]
  },
  {
   "cell_type": "code",
   "execution_count": null,
   "id": "d50af544",
   "metadata": {},
   "outputs": [],
   "source": [
    "#MRPS11\n",
    "Entrez.email = \"andres.benalcazar@est.ikiam.edu.ec\"\n",
    "hd1 = Entrez.efetch(db=\"nucleotide\",id=['NC_000015.10'],rettype='fasta')\n",
    "seq = SeqIO.read(hd1,'fasta')\n",
    "fw = open('seq_MRPS11.fasta','w')\n",
    "SeqIO.write(seq,fw,'fasta')\n",
    "fw.close()\n",
    "os.getcwd()"
   ]
  },
  {
   "cell_type": "code",
   "execution_count": null,
   "id": "34fb2320",
   "metadata": {},
   "outputs": [],
   "source": [
    "#MRPS12\n",
    "Entrez.email = \"andres.benalcazar@est.ikiam.edu.ec\"\n",
    "hd1 = Entrez.efetch(db=\"nucleotide\",id=['NC_000019.10'],rettype='fasta')\n",
    "seq = SeqIO.read(hd1,'fasta')\n",
    "fw = open('seq_MRPS12.fasta','w')\n",
    "SeqIO.write(seq,fw,'fasta')\n",
    "fw.close()\n",
    "os.getcwd()"
   ]
  },
  {
   "cell_type": "code",
   "execution_count": null,
   "id": "cfebf55e",
   "metadata": {},
   "outputs": [],
   "source": [
    "#MRPS14 y MRPS15\n",
    "Entrez.email = \"andres.benalcazar@est.ikiam.edu.ec\"\n",
    "hd1 = Entrez.efetch(db=\"nucleotide\",id=['NC_000001.11'],rettype='fasta')\n",
    "seq = SeqIO.read(hd1,'fasta')\n",
    "fw = open('MRPS14 y MRPS15.fasta','w')\n",
    "SeqIO.write(seq,fw,'fasta')\n",
    "fw.close()\n",
    "os.getcwd()"
   ]
  },
  {
   "cell_type": "code",
   "execution_count": null,
   "id": "e99bbab5",
   "metadata": {},
   "outputs": [],
   "source": [
    "#MRPS16\n",
    "Entrez.email = \"andres.benalcazar@est.ikiam.edu.ec\"\n",
    "hd1 = Entrez.efetch(db=\"nucleotide\",id=['NC_000010.11'],rettype='fasta')\n",
    "seq = SeqIO.read(hd1,'fasta')\n",
    "fw = open('seq_MRPS16.fasta','w')\n",
    "SeqIO.write(seq,fw,'fasta')\n",
    "fw.close()\n",
    "os.getcwd()"
   ]
  },
  {
   "cell_type": "code",
   "execution_count": null,
   "id": "2ca58f4b",
   "metadata": {},
   "outputs": [],
   "source": [
    "#MRPS17\n",
    "Entrez.email = \"andres.benalcazar@est.ikiam.edu.ec\"\n",
    "hd1 = Entrez.efetch(db=\"nucleotide\",id=['NC_000007.14'],rettype='fasta')\n",
    "seq = SeqIO.read(hd1,'fasta')\n",
    "fw = open('seq_MRPS17.fasta','w')\n",
    "SeqIO.write(seq,fw,'fasta')\n",
    "fw.close()\n",
    "os.getcwd()"
   ]
  },
  {
   "cell_type": "code",
   "execution_count": 156,
   "id": "5028cbb7",
   "metadata": {},
   "outputs": [
    {
     "data": {
      "text/plain": [
       "'C:\\\\Users\\\\User\\\\Documents\\\\sexto_semestre\\\\Bioinformatica\\\\GitHub\\\\gbi6g01_2022\\\\Suple'"
      ]
     },
     "execution_count": 156,
     "metadata": {},
     "output_type": "execute_result"
    }
   ],
   "source": [
    "#MRPS18A y 18B\n",
    "Entrez.email = \"andres.benalcazar@est.ikiam.edu.ec\"\n",
    "hd1 = Entrez.efetch(db=\"nucleotide\",id=['NC_000006.12'],rettype='fasta')\n",
    "seq = SeqIO.read(hd1,'fasta')\n",
    "fw = open('MRPS18A_18B.fasta','w')\n",
    "SeqIO.write(seq,fw,'fasta')\n",
    "fw.close()\n",
    "os.getcwd()"
   ]
  },
  {
   "cell_type": "code",
   "execution_count": 157,
   "id": "58728adb",
   "metadata": {},
   "outputs": [
    {
     "data": {
      "text/plain": [
       "'C:\\\\Users\\\\User\\\\Documents\\\\sexto_semestre\\\\Bioinformatica\\\\GitHub\\\\gbi6g01_2022\\\\Suple'"
      ]
     },
     "execution_count": 157,
     "metadata": {},
     "output_type": "execute_result"
    }
   ],
   "source": [
    "#MRPS18C\n",
    "Entrez.email = \"andres.benalcazar@est.ikiam.edu.ec\"\n",
    "hd1 = Entrez.efetch(db=\"nucleotide\",id=['NC_000004.12'],rettype='fasta')\n",
    "seq = SeqIO.read(hd1,'fasta')\n",
    "fw = open('MRPS18C.fasta','w')\n",
    "SeqIO.write(seq,fw,'fasta')\n",
    "fw.close()\n",
    "os.getcwd()"
   ]
  },
  {
   "cell_type": "code",
   "execution_count": 176,
   "id": "bf4b7f5a",
   "metadata": {},
   "outputs": [
    {
     "name": "stdout",
     "output_type": "stream",
     "text": [
      "NC_000009.12\n",
      "Seq('NNNNNNNNNNNNNNNNNNNNNNNNNNNNNNNNNNNNNNNNNNNNNNNNNNNNNN...NNN')\n",
      "138394717\n",
      "NC_000006.12\n",
      "Seq('NNNNNNNNNNNNNNNNNNNNNNNNNNNNNNNNNNNNNNNNNNNNNNNNNNNNNN...NNN')\n",
      "170805979\n",
      "NC_000015.10\n",
      "Seq('NNNNNNNNNNNNNNNNNNNNNNNNNNNNNNNNNNNNNNNNNNNNNNNNNNNNNN...NNN')\n",
      "101991189\n",
      "NC_000019.10\n",
      "Seq('NNNNNNNNNNNNNNNNNNNNNNNNNNNNNNNNNNNNNNNNNNNNNNNNNNNNNN...NNN')\n",
      "58617616\n",
      "NC_000001.11\n",
      "Seq('NNNNNNNNNNNNNNNNNNNNNNNNNNNNNNNNNNNNNNNNNNNNNNNNNNNNNN...NNN')\n",
      "248956422\n",
      "NC_000010.11\n",
      "Seq('NNNNNNNNNNNNNNNNNNNNNNNNNNNNNNNNNNNNNNNNNNNNNNNNNNNNNN...NNN')\n",
      "133797422\n",
      "NC_000007.14\n",
      "Seq('NNNNNNNNNNNNNNNNNNNNNNNNNNNNNNNNNNNNNNNNNNNNNNNNNNNNNN...NNN')\n",
      "159345973\n",
      "NC_000006.12\n",
      "Seq('NNNNNNNNNNNNNNNNNNNNNNNNNNNNNNNNNNNNNNNNNNNNNNNNNNNNNN...NNN')\n",
      "170805979\n",
      "NC_000004.12\n",
      "Seq('NNNNNNNNNNNNNNNNNNNNNNNNNNNNNNNNNNNNNNNNNNNNNNNNNNNNNN...NNN')\n",
      "190214555\n",
      "NC_000001.11\n",
      "Seq('NNNNNNNNNNNNNNNNNNNNNNNNNNNNNNNNNNNNNNNNNNNNNNNNNNNNNN...NNN')\n",
      "248956422\n",
      "NC_000003.12\n",
      "Seq('NNNNNNNNNNNNNNNNNNNNNNNNNNNNNNNNNNNNNNNNNNNNNNNNNNNNNN...NNN')\n",
      "198295559\n",
      "NC_000017.11\n",
      "Seq('NNNNNNNNNNNNNNNNNNNNNNNNNNNNNNNNNNNNNNNNNNNNNNNNNNNNNN...NNN')\n",
      "83257441\n",
      "NC_000007.14\n",
      "Seq('NNNNNNNNNNNNNNNNNNNNNNNNNNNNNNNNNNNNNNNNNNNNNNNNNNNNNN...NNN')\n",
      "159345973\n",
      "NC_000003.12\n",
      "Seq('NNNNNNNNNNNNNNNNNNNNNNNNNNNNNNNNNNNNNNNNNNNNNNNNNNNNNN...NNN')\n",
      "198295559\n",
      "NC_000020.11\n",
      "Seq('NNNNNNNNNNNNNNNNNNNNNNNNNNNNNNNNNNNNNNNNNNNNNNNNNNNNNN...NNN')\n",
      "64444167\n",
      "NC_000005.10\n",
      "Seq('NNNNNNNNNNNNNNNNNNNNNNNNNNNNNNNNNNNNNNNNNNNNNNNNNNNNNN...NNN')\n",
      "181538259\n",
      "NC_000008.11\n",
      "Seq('NNNNNNNNNNNNNNNNNNNNNNNNNNNNNNNNNNNNNNNNNNNNNNNNNNNNNN...NNN')\n",
      "145138636\n",
      "NC_000013.11\n",
      "Seq('NNNNNNNNNNNNNNNNNNNNNNNNNNNNNNNNNNNNNNNNNNNNNNNNNNNNNN...NNN')\n",
      "114364328\n"
     ]
    }
   ],
   "source": [
    "for seq_record in SeqIO.parse(\"NC_000009.12.fasta\", \"fasta\"): \n",
    "    print(seq_record.id)\n",
    "    print(repr(seq_record.seq))\n",
    "    Num_nucleotidos_MRPS2=len(seq_record)\n",
    "    print(Num_nucleotidos_MRPS2)\n",
    "for seq_record in SeqIO.parse(\"NC_000006.12.fasta\", \"fasta\"): \n",
    "    print(seq_record.id)\n",
    "    print(repr(seq_record.seq))\n",
    "    Num_nucleotidos_MRPS10=len(seq_record)\n",
    "    print(Num_nucleotidos_MRPS10)\n",
    "for seq_record in SeqIO.parse(\"NC_000015.10.fasta\", \"fasta\"): \n",
    "    print(seq_record.id)\n",
    "    print(repr(seq_record.seq))\n",
    "    Num_nucleotidos_MRPS11=len(seq_record)\n",
    "    print(Num_nucleotidos_MRPS11)\n",
    "for seq_record in SeqIO.parse(\"NC_000019.10.fasta\", \"fasta\"): \n",
    "    print(seq_record.id)\n",
    "    print(repr(seq_record.seq))\n",
    "    Num_nucleotidos_MRPS12=len(seq_record)\n",
    "    print(Num_nucleotidos_MRPS12)\n",
    "for seq_record in SeqIO.parse(\"NC_000001.11.fasta\", \"fasta\"): \n",
    "    print(seq_record.id)\n",
    "    print(repr(seq_record.seq))\n",
    "    Num_nucleotidos_MRPS14yMRPS15=len(seq_record)\n",
    "    print(Num_nucleotidos_MRPS14yMRPS15)\n",
    "for seq_record in SeqIO.parse(\"NC_000010.11.fasta\", \"fasta\"): \n",
    "    print(seq_record.id)\n",
    "    print(repr(seq_record.seq))\n",
    "    Num_nucleotidos_MRPS16=len(seq_record)\n",
    "    print(Num_nucleotidos_MRPS16)\n",
    "for seq_record in SeqIO.parse(\"NC_000007.14.fasta\", \"fasta\"): \n",
    "    print(seq_record.id)\n",
    "    print(repr(seq_record.seq))\n",
    "    Num_nucleotidos_MRPS17=len(seq_record)\n",
    "    print(Num_nucleotidos_MRPS17)\n",
    "for seq_record in SeqIO.parse(\"MRPS18A_18B.fasta\", \"fasta\"): \n",
    "    print(seq_record.id)\n",
    "    print(repr(seq_record.seq))\n",
    "    Num_nucleotidos_MRPS18A_18B=len(seq_record)\n",
    "    print(Num_nucleotidos_MRPS18A_18B)\n",
    "for seq_record in SeqIO.parse(\"MRPS18C.fasta\", \"fasta\"): \n",
    "    print(seq_record.id)\n",
    "    print(repr(seq_record.seq))\n",
    "    Num_nucleotidos_MRPS18C=len(seq_record)\n",
    "    print(Num_nucleotidos_MRPS18C)\n",
    "  "
   ]
  },
  {
   "cell_type": "markdown",
   "id": "51b090f3",
   "metadata": {},
   "source": [
    "Secuencias celulas con cancer"
   ]
  },
  {
   "cell_type": "code",
   "execution_count": 3,
   "id": "1c0e0159",
   "metadata": {},
   "outputs": [
    {
     "data": {
      "text/plain": [
       "'C:\\\\Users\\\\User\\\\Documents\\\\sexto_semestre\\\\Bioinformatica\\\\GitHub\\\\gbi6g01_2022\\\\Suple'"
      ]
     },
     "execution_count": 3,
     "metadata": {},
     "output_type": "execute_result"
    }
   ],
   "source": [
    "Entrez.email = \"andres.benalcazar@est.ikiam.edu.ec\"\n",
    "hd1 = Entrez.efetch(db=\"nucleotide\",id=['AACN010647222.1'],rettype='fasta')\n",
    "seq = SeqIO.read(hd1,'fasta')\n",
    "fw = open('cancer1.fasta','w')\n",
    "SeqIO.write(seq,fw,'fasta')\n",
    "fw.close()\n",
    "os.getcwd()\n",
    "\n",
    "Entrez.email = \"andres.benalcazar@est.ikiam.edu.ec\"\n",
    "hd1 = Entrez.efetch(db=\"nucleotide\",id=['AACN010359812.1'],rettype='fasta')\n",
    "seq = SeqIO.read(hd1,'fasta')\n",
    "fw = open('cancer2.fasta','w')\n",
    "SeqIO.write(seq,fw,'fasta')\n",
    "fw.close()\n",
    "os.getcwd()\n",
    "\n",
    "Entrez.email = \"andres.benalcazar@est.ikiam.edu.ec\"\n",
    "hd1 = Entrez.efetch(db=\"nucleotide\",id=['AACN010880806.1'],rettype='fasta')\n",
    "seq = SeqIO.read(hd1,'fasta')\n",
    "fw = open('cancer3.fasta','w')\n",
    "SeqIO.write(seq,fw,'fasta')\n",
    "fw.close()\n",
    "os.getcwd()\n",
    "\n",
    "Entrez.email = \"andres.benalcazar@est.ikiam.edu.ec\"\n",
    "hd1 = Entrez.efetch(db=\"nucleotide\",id=['CE216400.1'],rettype='fasta')\n",
    "seq = SeqIO.read(hd1,'fasta')\n",
    "fw = open('cancer4.fasta','w')\n",
    "SeqIO.write(seq,fw,'fasta')\n",
    "fw.close()\n",
    "os.getcwd()\n",
    "\n",
    "Entrez.email = \"andres.benalcazar@est.ikiam.edu.ec\"\n",
    "hd1 = Entrez.efetch(db=\"nucleotide\",id=['CD126322.1'],rettype='fasta')\n",
    "seq = SeqIO.read(hd1,'fasta')\n",
    "fw = open('cancer5.fasta','w')\n",
    "SeqIO.write(seq,fw,'fasta')\n",
    "fw.close()\n",
    "os.getcwd()"
   ]
  },
  {
   "cell_type": "code",
   "execution_count": 5,
   "id": "deef7413",
   "metadata": {},
   "outputs": [
    {
     "name": "stdout",
     "output_type": "stream",
     "text": [
      "AACN010647222.1\n",
      "Seq('CTCCCTGCGTGGAGCCTGCTTCTCCCTCTGCCTGTGTCTCTGCCTCTCTCTGTG...TCG')\n",
      "991\n",
      "AACN010359812.1\n",
      "Seq('TTCCTGTCCTAGTTAGTGGGATACAGATAGGAAACACGGTAGCTCCGAGCAGGA...TAG')\n",
      "1357\n",
      "AACN010880806.1\n",
      "Seq('GTGAAAAAGGAAAAAGTTGAGGAATGTCGTTTCCCCTGAGGGAGATTTTTTAGT...AAA')\n",
      "763\n",
      "CE216400.1\n",
      "Seq('CCTAAGGGGGAAATACATCGCAATACAAGCAGCCATTCAAAGACTGGAAAGAAC...TAT')\n",
      "648\n",
      "CD126322.1\n",
      "Seq('ATCTTCAAATGTCTGCCCTATCAATTTGTTGGGATACTACCCCTAACTCAGTCA...ATG')\n",
      "590\n"
     ]
    }
   ],
   "source": [
    "for seq_record in SeqIO.parse(\"cancer1.fasta\", \"fasta\"): \n",
    "    print(seq_record.id)\n",
    "    print(repr(seq_record.seq))\n",
    "    cancer1=len(seq_record)\n",
    "    print(cancer1)\n",
    "for seq_record in SeqIO.parse(\"cancer2.fasta\", \"fasta\"): \n",
    "    print(seq_record.id)\n",
    "    print(repr(seq_record.seq))\n",
    "    cancer2=len(seq_record)\n",
    "    print(cancer2)\n",
    "for seq_record in SeqIO.parse(\"cancer3.fasta\", \"fasta\"): \n",
    "    print(seq_record.id)\n",
    "    print(repr(seq_record.seq))\n",
    "    cancer3=len(seq_record)\n",
    "    print(cancer3)\n",
    "for seq_record in SeqIO.parse(\"cancer4.fasta\", \"fasta\"): \n",
    "    print(seq_record.id)\n",
    "    print(repr(seq_record.seq))\n",
    "    cancer4=len(seq_record)\n",
    "    print(cancer4)\n",
    "for seq_record in SeqIO.parse(\"cancer5.fasta\", \"fasta\"): \n",
    "    print(seq_record.id)\n",
    "    print(repr(seq_record.seq))\n",
    "    cancer5=len(seq_record)\n",
    "    print(cancer5)"
   ]
  },
  {
   "cell_type": "code",
   "execution_count": null,
   "id": "94acc5b0",
   "metadata": {},
   "outputs": [],
   "source": []
  },
  {
   "cell_type": "markdown",
   "id": "72c25b6f",
   "metadata": {},
   "source": [
    "## Ejercicio 3 [1 punto] \n",
    "### Realizar un histograma (matplotlib) para cada componente con el número de nucleótidos de las secuencias. Explique los hallazgos. "
   ]
  },
  {
   "cell_type": "code",
   "execution_count": 6,
   "id": "82b30348",
   "metadata": {},
   "outputs": [],
   "source": [
    "data=[\"Num_nucleotidos_MRPS2\", \"Num_nucleotidos_MRPS10\", \"Num_nucleotidos_MRPS11\", \"Num_nucleotidos_MRPS12\",\n",
    "     \"Num_nucleotidos_MRPS14yMRPS15\", \"Num_nucleotidos_MRPS16\", \"Num_nucleotidos_MRPS17\", \"um_nucleotidos_MRPS18A_18B\",\n",
    "     \"Num_nucleotidos_MRPS18C\", \"cancer1\", \"cancer2\", \"cancer3\", \"cancer4\", \"cancer5\"]"
   ]
  },
  {
   "cell_type": "code",
   "execution_count": 7,
   "id": "c3a61ebc",
   "metadata": {},
   "outputs": [],
   "source": [
    "import matplotlib.pyplot as plt\n",
    "import matplotlib.mlab as mlab"
   ]
  },
  {
   "cell_type": "code",
   "execution_count": null,
   "id": "f7a7a37d",
   "metadata": {},
   "outputs": [],
   "source": [
    "plt.title('Comparacion de proteinas S ribosomolaes ')\n",
    "plt.xlabel('MRPS vs Cancer', fontsize = 14, rotation = 0)\n",
    "plt.ylabel('Frecuencia', fontsize = 14, rotation = 90)\n",
    "intervalos = range(min(data), max(data)) \n",
    "plt.hist(data, bins=intervalos, color='#F2AB6D', rwidth=0.85)\n",
    "plt.xticks(intervalos)\n",
    "plt.show()"
   ]
  },
  {
   "cell_type": "code",
   "execution_count": null,
   "id": "b9d014cb",
   "metadata": {},
   "outputs": [],
   "source": []
  },
  {
   "cell_type": "markdown",
   "id": "24c8666c",
   "metadata": {},
   "source": [
    "## Pregunta 4 [2 puntos]\n",
    "### Realizar un árbol filogenético donde se muestre las secuencias de células normales y las células cancerosas. Explique los hallazgos. "
   ]
  },
  {
   "cell_type": "code",
   "execution_count": null,
   "id": "c7bfdbc0",
   "metadata": {},
   "outputs": [],
   "source": [
    "from Bio.Align.Applications import ClustalwCommandline\n",
    "import os"
   ]
  },
  {
   "cell_type": "code",
   "execution_count": null,
   "id": "112672f7",
   "metadata": {},
   "outputs": [],
   "source": [
    "clustalw_exe = r\"C:\\Program Files (x86)\\ClustalW2\\clustalw2.exe\"\n",
    "clustalw_cline = ClustalwCommandline(clustalw_exe, infile = \"data/rag2s.fasta\")\n",
    "assert os.path.isfile(clustalw_exe), \"Clustal_W executable is missing or not found\"\n",
    "stdout, stderr = clustalw_cline()\n",
    "print(clustalw_cline)"
   ]
  },
  {
   "cell_type": "code",
   "execution_count": null,
   "id": "0f106379",
   "metadata": {},
   "outputs": [],
   "source": [
    "ClustalAlign = AlignIO.read(\"data/rag2s.aln\", \"clustal\")\n",
    "print(ClustalAlign)"
   ]
  },
  {
   "cell_type": "code",
   "execution_count": null,
   "id": "14528c5b",
   "metadata": {},
   "outputs": [],
   "source": []
  },
  {
   "cell_type": "code",
   "execution_count": null,
   "id": "21c2a6e6",
   "metadata": {},
   "outputs": [],
   "source": []
  },
  {
   "cell_type": "code",
   "execution_count": null,
   "id": "92b78884",
   "metadata": {},
   "outputs": [],
   "source": []
  },
  {
   "cell_type": "code",
   "execution_count": null,
   "id": "6c97c1dd",
   "metadata": {},
   "outputs": [],
   "source": []
  },
  {
   "cell_type": "code",
   "execution_count": null,
   "id": "4d725c94",
   "metadata": {},
   "outputs": [],
   "source": []
  },
  {
   "cell_type": "code",
   "execution_count": null,
   "id": "b7fba211",
   "metadata": {},
   "outputs": [],
   "source": []
  },
  {
   "cell_type": "code",
   "execution_count": null,
   "id": "cb116c40",
   "metadata": {},
   "outputs": [],
   "source": []
  },
  {
   "cell_type": "code",
   "execution_count": null,
   "id": "a91cb6a0",
   "metadata": {},
   "outputs": [],
   "source": []
  },
  {
   "cell_type": "code",
   "execution_count": null,
   "id": "1cb31f25",
   "metadata": {},
   "outputs": [],
   "source": []
  },
  {
   "cell_type": "code",
   "execution_count": null,
   "id": "9a448d51",
   "metadata": {},
   "outputs": [],
   "source": []
  },
  {
   "cell_type": "code",
   "execution_count": null,
   "id": "7121504d",
   "metadata": {},
   "outputs": [],
   "source": []
  },
  {
   "cell_type": "code",
   "execution_count": null,
   "id": "63b373f2",
   "metadata": {},
   "outputs": [],
   "source": []
  },
  {
   "cell_type": "code",
   "execution_count": null,
   "id": "470cac1d",
   "metadata": {},
   "outputs": [],
   "source": []
  },
  {
   "cell_type": "markdown",
   "id": "4dab7d45",
   "metadata": {},
   "source": [
    "## Bibliografia \n",
    "1.  Kampen KR, Sulima SO, Vereecke S, De Keersmaecker K. Hallmarks of ribosomopathies. Nucleic Acids Res. 2020 Feb\n",
    "    20;48(3):1013-1028. doi: 10.1093/nar/gkz637. PMID: 31350888; PMCID: PMC7026650.\n",
    "2.  Kim HJ, Maiti P, Barrientos A. Mitochondrial ribosomes in cancer. Semin Cancer Biol. 2017 Dec;47:67-81. \n",
    "    doi: 10.1016/j.semcancer.2017.04.004. Epub 2017 Apr 23. PMID: 28445780; PMCID: PMC5662495.\n",
    "3.  Kitakawa M, Isono K. The mitochondrial ribosomes. Biochimie. 1991 Jun;73(6):813-25. \n",
    "    doi: 10.1016/0300-9084(91)90061-5. PMID: 1764526."
   ]
  }
 ],
 "metadata": {
  "kernelspec": {
   "display_name": "Python 3 (ipykernel)",
   "language": "python",
   "name": "python3"
  },
  "language_info": {
   "codemirror_mode": {
    "name": "ipython",
    "version": 3
   },
   "file_extension": ".py",
   "mimetype": "text/x-python",
   "name": "python",
   "nbconvert_exporter": "python",
   "pygments_lexer": "ipython3",
   "version": "3.9.12"
  }
 },
 "nbformat": 4,
 "nbformat_minor": 5
}
