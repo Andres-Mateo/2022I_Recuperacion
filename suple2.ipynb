{
 "cells": [
  {
   "cell_type": "markdown",
   "id": "41a7c1be",
   "metadata": {},
   "source": [
    "<img src=\"data:image/png;base64,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\" width=300 height=240 />\n",
    "\n",
    "# EXAMEN RECUPERACION BIOINFORMTICA\n",
    "    \n",
    "## GBI6-2021II: BIOINFORMÁTICA\n",
    "\n",
    "**Benalcazar Mera, Andres Mateo**\n",
    "\n",
    "**17-08-2022**"
   ]
  },
  {
   "cell_type": "markdown",
   "id": "cffdcce3",
   "metadata": {},
   "source": [
    "**Vaya a alguno de los siguientes enlaces:**\n",
    "\n",
    "▪ https://www.genenames.org/data/genegroup/#!/group/1054,\n",
    "\n",
    "▪ http://ribosome.med.miyazaki-u.ac.jp/rpg.cgi?mode=orglist&org=Homo%20sapiens&type=m,\n",
    "\n",
    "▪ https://www.arb-silva.de/browser/ssu-138.1/AADB02002318\n",
    "\n",
    "**En ellas se tiene información sobre las proteínas o RNA ribosomales:**\n",
    "\n",
    "• S Ribosomal proteins:\n",
    "\n",
    "• L Ribosomal proteins:\n",
    "\n",
    "• S Ribosomal proteins – Mitochondrial: Mateo Benalcazar\n",
    "\n",
    "• L Ribosomal proteins – Mitochondrial:\n",
    "\n",
    "• RNA ribosomal"
   ]
  },
  {
   "cell_type": "markdown",
   "id": "1ac186ab",
   "metadata": {},
   "source": [
    "## INTRODUCCION \n",
    "   El ribosoma es una organelo celular muy importante que se desembuelve sobretodo en el dogma central de la biologia, pues, al ser el encargado de traducir en mRNA en proteinas este permite que se desarrolle la vida como la conocemos [1]. Los ribosomas estan contituidos por dos subunidades de ARN y proteinas, estas subunidades revelan la arquitectura compleja que se deriva de la red de interacciones que conectan las proteínas r individuales entre sí y con el ARNr [4].\n",
    "<img src=\"https://www.ncbi.nlm.nih.gov/corecgi/tileshop/tileshop.fcgi?p=PMC3&id=277960&s=30&r=2&c=1\" width=350 height=240 />\n",
    "   \n",
    "   La subunidad ribosómica pequeña se une a los ARN mensajeros (ARNm) y traduce el mensaje codificado seleccionando moléculas de ARN de transferencia de aminoacil (ARNt) afines, por otro lado, la subunidad grande contiene el sitio catalítico ribosómico denominado centro de peptidil transferasa (PTC), que cataliza la formación de enlaces peptídicos, polimerizando así los aminoácidos entregados por los tRNA en una cadena polipeptídica [4]. \n",
    "<img src=\"https://www.ncbi.nlm.nih.gov/pmc/articles/PMC3331703/bin/cshperspect-TRA-011536_F5.jpg\" width=350 height=260/>   \n",
    "   \n",
    "   Las mitocondrias son uno de los orgnalenos mas importante de la celula, pues, al estar encargados de convertir energia en forma de ATP, tambien estan relacionados en procesos como la apoptósis y enveceimiento celular [4]. Los ribosomas que sintetizan oproteinas en las mitocondrias son llamados mitoribozomas[2,3], estos son macroestructuras de origen genético dual, formadas por 3 componentes de ARN mitoribosómico codificados en el ADNmt y 89 componentes proteicos específicos codificados en el ADN nuclear [2]. Sin embargo, aunque los mitoribosomas se derivan evolutivamente de los ribosomas bacterianos, se han diferenciado mucho de ellos en términos de composición, función y estructura [4].\n",
    "\n",
    "<img src=\"https://image.slidesharecdn.com/mitocondrias-101028144919-phpapp01/85/mitocondrias-12-320.jpg?cb=1659112630\" witdh=350 height=280/>\n",
    "   \n",
    "   Recientemente se ha hablado mucho acerca de la relacion entre los mitoribozomas y el cancer, pues, como se sabe las mitocondrias participan en la apoptósis, ademas, en recientes estudios se ha encontrado alteraciones en los niveles de proteínas del mitoribosoma o factores de ensamblaje asociados con el desarrollo de cánceres [2]. Lo cual tiene sentido puesto que los mitoribozomas tienen mucho que ver dentro de la respiracion celular, de modo que si la célula llega a tener aulguna mutacion (cancer) son las encargadas de generar apoptósis y evitar la propagacion de la mutacion [3].\n",
    "<img src=\"https://www.greberlab.org/uploads/1/3/3/5/133583913/montage_orig.jpg\" width=300 height=240 />"
   ]
  },
  {
   "cell_type": "markdown",
   "id": "2c947eb3",
   "metadata": {},
   "source": [
    "## Ejercicio 1 [1 punto] \n",
    "### Crear un repositorio de nombre “2022I_Recuperacion”. Generar un Readme con los detalles de las actividades, del equipo utilizado y de los programas utilizados. Mantenga un control de cambios. "
   ]
  },
  {
   "cell_type": "markdown",
   "id": "3baea6ed",
   "metadata": {},
   "source": [
    "Enlace del repositorio: https://github.com/Andres-Mateo/2022I_Recuperacion"
   ]
  },
  {
   "cell_type": "markdown",
   "id": "9fc60342",
   "metadata": {},
   "source": [
    "## Ejercicio 2 [1 punto] \n",
    "#### Con el grupo de componentes ribosomales seleccionado, realizar una búsqueda con Python de la información para cada componente (formato gdb) y separar en secuencias para células humanas sanas y cancerosas."
   ]
  },
  {
   "cell_type": "code",
   "execution_count": 14,
   "id": "e2a65cbf",
   "metadata": {},
   "outputs": [],
   "source": [
    "from Bio import Entrez\n",
    "from Bio import SeqIO\n",
    "import re\n",
    "import os"
   ]
  },
  {
   "cell_type": "code",
   "execution_count": 100,
   "id": "68488910",
   "metadata": {},
   "outputs": [],
   "source": [
    "records = [] \n",
    "seq_cell_sana = []\n",
    "comments = []\n",
    "comentarios=[]\n",
    "id_enfermas = []\n",
    "id_sanas = []\n",
    "out_sequence = []\n",
    "cell_enfermas = []\n",
    "cell_sanas = []\n",
    "len_sequences=[]"
   ]
  },
  {
   "cell_type": "code",
   "execution_count": 98,
   "id": "8a4fc382",
   "metadata": {},
   "outputs": [],
   "source": [
    "ID=[\"AB051627.1\", \"NM_018141.4\", \"AB051349.1\", \"Y11681.1\", \"AB049946.1\", \"AB051350.1\", \"AB051351\", \"AB051352.1\", \n",
    "    \"AB049952.1\", \"AF100761\", \"NM_001297767\", \"AB051353\", \"AF226045\", \"AB061206\", \"AB061207\", \"AB061208\", \"AB051354\"]"
   ]
  },
  {
   "cell_type": "code",
   "execution_count": 101,
   "id": "4b47331c",
   "metadata": {},
   "outputs": [
    {
     "name": "stdout",
     "output_type": "stream",
     "text": [
      "sana\n",
      "sana\n",
      "sana\n",
      "sana\n",
      "sana\n",
      "sana\n",
      "sana\n",
      "sana\n",
      "sana\n",
      "sana\n",
      "sana\n",
      "sana\n",
      "sana\n",
      "sana\n",
      "sana\n",
      "sana\n",
      "sana\n"
     ]
    }
   ],
   "source": [
    "Entrez.email = \"andres.benalcazar@est.ikiam.edu.ec\" \n",
    "with Entrez.efetch( db=\"nucleotide\", rettype=\"gb\", retmode=\"text\", id= ID) as handle:\n",
    "  \n",
    "    for seq_record in SeqIO.parse(handle, \"gb\"):\n",
    "        seq = seq_record.seq\n",
    "        record = seq_record.annotations\n",
    "        records.append(record)\n",
    "        \n",
    "        if \"cancer\" in record:\n",
    "            cell_enfermas.append(len(seq_record))\n",
    "            len_sequences.append(repr(seq))\n",
    "            id_enfermas.append(seq)\n",
    "            comments.append(record[\"comment\"])\n",
    "            print(\"celula infectada con cancer\")\n",
    "        else: \n",
    "            cell_sanas.append(len(seq_record))\n",
    "            seq_cell_sana.append(repr(seq_record.seq))\n",
    "            id_sanas.append(seq_record.id)\n",
    "            print(\"sana\")\n",
    "        \n",
    "Total_seq = seq_cell_sana + len_sequences\n",
    "Total_id = id_enfermas + id_sanas"
   ]
  },
  {
   "cell_type": "code",
   "execution_count": 138,
   "id": "4b973885",
   "metadata": {},
   "outputs": [],
   "source": [
    "from Bio import Entrez\n",
    "\n",
    "out_sequence = open(\"MPRS_secuencias.fasta\", \"w\")\n",
    "\n",
    "for linea in Total_seq :  \n",
    "    Entrez.email=\"andres.benalcazar@est.ikiam.edu.ec\"\n",
    "    handle=Entrez.efetch(db=\"nucleotide\" ,id=ID ,rettype=\"fasta\", retmode=\"text\")\n",
    "    data=(handle.read())\n",
    "    out_sequence.write(data)\n",
    "out_sequence.close()"
   ]
  },
  {
   "cell_type": "code",
   "execution_count": 139,
   "id": "8ba64832",
   "metadata": {},
   "outputs": [
    {
     "name": "stdout",
     "output_type": "stream",
     "text": [
      "De lo consultado, existen 17 secuencias que van hacer analizadas\n",
      "de las cuales 0 son secuencias de celulas dañadas o con cancer\n",
      "y 17 son secuencias de células sanas\n"
     ]
    }
   ],
   "source": [
    "print (\"De lo consultado, existen\", len(records), \"secuencias que van hacer analizadas\")\n",
    "\n",
    "print (\"de las cuales\", len(len_sequences), \"son secuencias de celulas dañadas o con cancer\") \n",
    "\n",
    "print (\"y\", len(seq_cell_sana), \"son secuencias de células sanas\")\n"
   ]
  },
  {
   "cell_type": "code",
   "execution_count": null,
   "id": "aeb9302c",
   "metadata": {},
   "outputs": [],
   "source": []
  },
  {
   "cell_type": "markdown",
   "id": "72c25b6f",
   "metadata": {},
   "source": [
    "## Ejercicio 3 [1 punto] \n",
    "### Realizar un histograma (matplotlib) para cada componente con el número de nucleótidos de las secuencias. Explique los hallazgos. "
   ]
  },
  {
   "cell_type": "code",
   "execution_count": 105,
   "id": "c3a61ebc",
   "metadata": {},
   "outputs": [],
   "source": [
    "import matplotlib.pyplot as plt\n",
    "import matplotlib.mlab as mlab"
   ]
  },
  {
   "cell_type": "code",
   "execution_count": 129,
   "id": "f7a7a37d",
   "metadata": {},
   "outputs": [
    {
     "data": {
      "image/png": "[encoded data removed]",
      "text/plain": [
       "<Figure size 432x288 with 1 Axes>"
      ]
     },
     "metadata": {
      "needs_background": "light"
     },
     "output_type": "display_data"
    }
   ],
   "source": [
    "plt.title('Comparacion de Sanas vs cancer')\n",
    "plt.xlabel('total hallazgos', fontsize = 14, rotation = 0)\n",
    "plt.ylabel('Frecuencia', fontsize = 14, rotation = 90) \n",
    "plt.hist(Total_seq,bins = 16, color = \"#F2AB6D\", rwidth=0.3)\n",
    "plt.show()"
   ]
  },
  {
   "cell_type": "markdown",
   "id": "46690684",
   "metadata": {},
   "source": [
    "como se puede observar en el histograma, la cantidad de celulas con cancer es 0, lo que quiere decir que todas las celulas estan sanas, ademas, se puede obvervar un valor sobresaliendo, este valor indica que de todas las secuencias analizadas hay una que se repite, la cual haciendo su respectiva busqueda son las MPRS15A y MPRS108B."
   ]
  },
  {
   "cell_type": "code",
   "execution_count": 122,
   "id": "310db63c",
   "metadata": {
    "scrolled": true
   },
   "outputs": [
    {
     "name": "stderr",
     "output_type": "stream",
     "text": [
      "C:\\Users\\User\\anaconda3\\lib\\site-packages\\seaborn\\_decorators.py:36: FutureWarning: Pass the following variable as a keyword arg: x. From version 0.12, the only valid positional argument will be `data`, and passing other arguments without an explicit keyword will result in an error or misinterpretation.\n",
      "  warnings.warn(\n"
     ]
    },
    {
     "data": {
      "text/plain": [
       "<AxesSubplot:ylabel='count'>"
      ]
     },
     "execution_count": 122,
     "metadata": {},
     "output_type": "execute_result"
    },
    {
     "data": {
      "image/png": "[encoded data removed]",
      "text/plain": [
       "<Figure size 432x288 with 1 Axes>"
      ]
     },
     "metadata": {
      "needs_background": "light"
     },
     "output_type": "display_data"
    }
   ],
   "source": [
    "import seaborn as sns\n",
    "sns.countplot(Total_seq, palette = \"ocean\")"
   ]
  },
  {
   "cell_type": "markdown",
   "id": "1e177459",
   "metadata": {},
   "source": [
    "Como se menciono anteriormente no hay registro de cancer. Esta grafica nos indica que todas son sanas y cada secuencia es diferente (exceptiuando por la que ya se hablo anteriormente). La gama de colores se da debido a la paleta usada la cual es ocean."
   ]
  },
  {
   "cell_type": "markdown",
   "id": "24c8666c",
   "metadata": {},
   "source": [
    "## Pregunta 4 [2 puntos]\n",
    "### Realizar un árbol filogenético donde se muestre las secuencias de células normales y las células cancerosas. Explique los hallazgos. "
   ]
  },
  {
   "cell_type": "code",
   "execution_count": 134,
   "id": "c7bfdbc0",
   "metadata": {},
   "outputs": [],
   "source": [
    "from Bio import SeqIO\n",
    "from Bio import AlignIO\n",
    "from Bio import Phylo\n",
    "from Bio.Align.Applications import ClustalwCommandline\n",
    "import os"
   ]
  },
  {
   "cell_type": "code",
   "execution_count": 149,
   "id": "112672f7",
   "metadata": {
    "scrolled": true
   },
   "outputs": [
    {
     "ename": "ApplicationError",
     "evalue": "Non-zero return code 4294967295 from '\"C:\\\\Program Files (x86)\\\\ClustalW2\\\\clustalw2.exe\" -infile=MPRS_secuencias.fasta', message 'ERROR: Multiple sequences found with same name (found AB051627.1 at least twice)!'",
     "output_type": "error",
     "traceback": [
      "\u001b[1;31m---------------------------------------------------------------------------\u001b[0m",
      "\u001b[1;31mApplicationError\u001b[0m                          Traceback (most recent call last)",
      "Input \u001b[1;32mIn [149]\u001b[0m, in \u001b[0;36m<cell line: 4>\u001b[1;34m()\u001b[0m\n\u001b[0;32m      2\u001b[0m clustalw_cline \u001b[38;5;241m=\u001b[39m ClustalwCommandline(clustalw_exe, infile \u001b[38;5;241m=\u001b[39m \u001b[38;5;124m\"\u001b[39m\u001b[38;5;124mMPRS_secuencias.fasta\u001b[39m\u001b[38;5;124m\"\u001b[39m)\n\u001b[0;32m      3\u001b[0m \u001b[38;5;28;01massert\u001b[39;00m os\u001b[38;5;241m.\u001b[39mpath\u001b[38;5;241m.\u001b[39misfile(clustalw_exe), \u001b[38;5;124m\"\u001b[39m\u001b[38;5;124mClustal_W executable is missing or not found\u001b[39m\u001b[38;5;124m\"\u001b[39m\n\u001b[1;32m----> 4\u001b[0m stdout, stderr \u001b[38;5;241m=\u001b[39m \u001b[43mclustalw_cline\u001b[49m\u001b[43m(\u001b[49m\u001b[43m)\u001b[49m\n\u001b[0;32m      5\u001b[0m \u001b[38;5;28mprint\u001b[39m(clustalw_cline)\n",
      "File \u001b[1;32m~\\anaconda3\\lib\\site-packages\\Bio\\Application\\__init__.py:574\u001b[0m, in \u001b[0;36mAbstractCommandline.__call__\u001b[1;34m(self, stdin, stdout, stderr, cwd, env)\u001b[0m\n\u001b[0;32m    571\u001b[0m     stderr_arg\u001b[38;5;241m.\u001b[39mclose()\n\u001b[0;32m    573\u001b[0m \u001b[38;5;28;01mif\u001b[39;00m return_code:\n\u001b[1;32m--> 574\u001b[0m     \u001b[38;5;28;01mraise\u001b[39;00m ApplicationError(return_code, \u001b[38;5;28mstr\u001b[39m(\u001b[38;5;28mself\u001b[39m), stdout_str, stderr_str)\n\u001b[0;32m    575\u001b[0m \u001b[38;5;28;01mreturn\u001b[39;00m stdout_str, stderr_str\n",
      "\u001b[1;31mApplicationError\u001b[0m: Non-zero return code 4294967295 from '\"C:\\\\Program Files (x86)\\\\ClustalW2\\\\clustalw2.exe\" -infile=MPRS_secuencias.fasta', message 'ERROR: Multiple sequences found with same name (found AB051627.1 at least twice)!'"
     ]
    }
   ],
   "source": [
    "clustalw_exe = r\"C:\\Program Files (x86)\\ClustalW2\\clustalw2.exe\"\n",
    "clustalw_cline = ClustalwCommandline(clustalw_exe, infile = \"MPRS_secuencias.fasta\")\n",
    "assert os.path.isfile(clustalw_exe), \"Clustal_W executable is missing or not found\"\n",
    "stdout, stderr = clustalw_cline()\n",
    "print(clustalw_cline)"
   ]
  },
  {
   "cell_type": "code",
   "execution_count": null,
   "id": "0f106379",
   "metadata": {},
   "outputs": [],
   "source": [
    "ClustalAlign = AlignIO.read(\"MPRS_secuencias.aln\", \"clustal\")\n",
    "print(ClustalAlign)"
   ]
  },
  {
   "cell_type": "code",
   "execution_count": null,
   "id": "5836ac27",
   "metadata": {},
   "outputs": [],
   "source": [
    "from Bio import Phylo\n",
    "tree = Phylo.read(\"MPRS_secuencias.dnd\", \"newick\")\n",
    "Phylo.draw_ascii(tree)"
   ]
  },
  {
   "cell_type": "code",
   "execution_count": null,
   "id": "14528c5b",
   "metadata": {},
   "outputs": [],
   "source": [
    "with open(\"MPRS_secuencia.aln\",\"r\") as aln: \n",
    "    alignment = AlignIO.read(aln,\"clustal\")\n",
    "print(type(alignment))"
   ]
  },
  {
   "cell_type": "code",
   "execution_count": null,
   "id": "21c2a6e6",
   "metadata": {},
   "outputs": [],
   "source": [
    "from Bio.Phylo.TreeConstruction import DistanceCalculator \n",
    "calculator = DistanceCalculator('identity')"
   ]
  },
  {
   "cell_type": "code",
   "execution_count": null,
   "id": "92b78884",
   "metadata": {},
   "outputs": [],
   "source": [
    "distance_matrix = calculator.get_distance(alignment)\n",
    "print(distance_matrix)"
   ]
  },
  {
   "cell_type": "code",
   "execution_count": null,
   "id": "6c97c1dd",
   "metadata": {},
   "outputs": [],
   "source": [
    "from Bio.Phylo.TreeConstruction import DistanceTreeConstructor\n",
    "constructor = DistanceTreeConstructor(calculator)"
   ]
  },
  {
   "cell_type": "code",
   "execution_count": null,
   "id": "4d725c94",
   "metadata": {},
   "outputs": [],
   "source": [
    "rag2_tree = constructor.build_tree(alignment)\n",
    "rag2_tree.rooted = True\n",
    "print(rag2_tree)"
   ]
  },
  {
   "cell_type": "code",
   "execution_count": null,
   "id": "b7fba211",
   "metadata": {},
   "outputs": [],
   "source": [
    "rag2_tree = Phylo.read(file=\"data/rag2_tree.xml\", format= \"phyloxml\")\n",
    "\n",
    "import matplotlib\n",
    "import matplotlib.pyplot as plt\n",
    "fig = Phylo.draw(rag2_tree)"
   ]
  },
  {
   "cell_type": "code",
   "execution_count": null,
   "id": "cb116c40",
   "metadata": {},
   "outputs": [],
   "source": []
  },
  {
   "cell_type": "code",
   "execution_count": null,
   "id": "a91cb6a0",
   "metadata": {},
   "outputs": [],
   "source": []
  },
  {
   "cell_type": "code",
   "execution_count": null,
   "id": "1cb31f25",
   "metadata": {},
   "outputs": [],
   "source": []
  },
  {
   "cell_type": "code",
   "execution_count": null,
   "id": "9a448d51",
   "metadata": {},
   "outputs": [],
   "source": []
  },
  {
   "cell_type": "code",
   "execution_count": null,
   "id": "7121504d",
   "metadata": {},
   "outputs": [],
   "source": []
  },
  {
   "cell_type": "code",
   "execution_count": null,
   "id": "63b373f2",
   "metadata": {},
   "outputs": [],
   "source": []
  },
  {
   "cell_type": "code",
   "execution_count": null,
   "id": "470cac1d",
   "metadata": {},
   "outputs": [],
   "source": []
  },
  {
   "cell_type": "markdown",
   "id": "4dab7d45",
   "metadata": {},
   "source": [
    "## Bibliografia \n",
    "1.  Kampen KR, Sulima SO, Vereecke S, De Keersmaecker K. Hallmarks of ribosomopathies. Nucleic Acids Res. 2020 Feb\n",
    "    20;48(3):1013-1028. doi: 10.1093/nar/gkz637. PMID: 31350888; PMCID: PMC7026650.\n",
    "2.  Kim HJ, Maiti P, Barrientos A. Mitochondrial ribosomes in cancer. Semin Cancer Biol. 2017 Dec;47:67-81. \n",
    "    doi: 10.1016/j.semcancer.2017.04.004. Epub 2017 Apr 23. PMID: 28445780; PMCID: PMC5662495.\n",
    "3.  Kitakawa M, Isono K. The mitochondrial ribosomes. Biochimie. 1991 Jun;73(6):813-25. \n",
    "    doi: 10.1016/0300-9084(91)90061-5. PMID: 1764526.\n",
    "4.  Wilson DN, Doudna Cate JH. The structure and function of the eukaryotic ribosome. Cold Spring Harb Perspect Biol. 2012 May 1;4(5):a011536. doi: 10.1101/cshperspect.a011536. PMID: 22550233; PMCID: PMC3331703."
   ]
  }
 ],
 "metadata": {
  "kernelspec": {
   "display_name": "Python 3 (ipykernel)",
   "language": "python",
   "name": "python3"
  },
  "language_info": {
   "codemirror_mode": {
    "name": "ipython",
    "version": 3
   },
   "file_extension": ".py",
   "mimetype": "text/x-python",
   "name": "python",
   "nbconvert_exporter": "python",
   "pygments_lexer": "ipython3",
   "version": "3.9.12"
  }
 },
 "nbformat": 4,
 "nbformat_minor": 5
}
