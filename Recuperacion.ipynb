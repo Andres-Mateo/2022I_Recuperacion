{
 "cells": [
  {
   "cell_type": "markdown",
   "id": "41a7c1be",
   "metadata": {},
   "source": [
    "<img src=\"data:image/png;base64,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\" width=300 height=240 />\n",
    "\n",
    "# EXAMEN RECUPERACION BIOINFORMTICA\n",
    "    \n",
    "## GBI6-2021II: BIOINFORMÁTICA\n",
    "\n",
    "**Benalcazar Mera, Andres Mateo**\n",
    "\n",
    "**17-08-2022**"
   ]
  },
  {
   "cell_type": "markdown",
   "id": "4bae4ae6",
   "metadata": {},
   "source": [
    "**Vaya a alguno de los siguientes enlaces:**\n",
    "\n",
    "▪ https://www.genenames.org/data/genegroup/#!/group/1054,\n",
    "\n",
    "▪ http://ribosome.med.miyazaki-u.ac.jp/rpg.cgi?mode=orglist&org=Homo%20sapiens&type=m,\n",
    "\n",
    "▪ https://www.arb-silva.de/browser/ssu-138.1/AADB02002318\n",
    "\n",
    "**En ellas se tiene información sobre las proteínas o RNA ribosomales:**\n",
    "\n",
    "• S Ribosomal proteins:\n",
    "\n",
    "• L Ribosomal proteins:\n",
    "\n",
    "• S Ribosomal proteins – Mitochondrial: Mateo Benalcazar\n",
    "\n",
    "• L Ribosomal proteins – Mitochondrial:\n",
    "\n",
    "• RNA ribosomal"
   ]
  },
  {
   "cell_type": "markdown",
   "id": "1ac186ab",
   "metadata": {},
   "source": [
    "## INTRODUCCION \n",
    "   El ribosoma es una organelo celular muy importante que se desembuelve sobretodo en el dogma central de la biologia, pues, al ser el encargado de traducir en mRNA en proteinas este permite que se desarrolle la vida como la conocemos [1]. Los ribosomas estan contituidos por dos subunidades de ARN y proteinas, estas subunidades revelan la arquitectura compleja que se deriva de la red de interacciones que conectan las proteínas r individuales entre sí y con el ARNr [4].\n",
    "\n",
    "\n",
    "<img src=\"https://www.ncbi.nlm.nih.gov/corecgi/tileshop/tileshop.fcgi?p=PMC3&id=277960&s=30&r=2&c=1\" width=350 height=240 />\n",
    "   \n",
    "   \n",
    "   \n",
    "   La subunidad ribosómica pequeña se une a los ARN mensajeros (ARNm) y traduce el mensaje codificado seleccionando moléculas de ARN de transferencia de aminoacil (ARNt) afines, por otro lado, la subunidad grande contiene el sitio catalítico ribosómico denominado centro de peptidil transferasa (PTC), que cataliza la formación de enlaces peptídicos, polimerizando así los aminoácidos entregados por los tRNA en una cadena polipeptídica [4]. \n",
    "\n",
    "\n",
    "<img src=\"https://www.ncbi.nlm.nih.gov/pmc/articles/PMC3331703/bin/cshperspect-TRA-011536_F5.jpg\" width=350 height=260/>   \n",
    "   \n",
    "\n",
    "\n",
    "   Las mitocondrias son uno de los orgnalenos mas importante de la celula, pues, al estar encargados de convertir energia en forma de ATP, tambien estan relacionados en procesos como la apoptósis y enveceimiento celular [4]. Los ribosomas que sintetizan oproteinas en las mitocondrias son llamados mitoribozomas[2,3], estos son macroestructuras de origen genético dual, formadas por 3 componentes de ARN mitoribosómico codificados en el ADNmt y 89 componentes proteicos específicos codificados en el ADN nuclear [2]. Sin embargo, aunque los mitoribosomas se derivan evolutivamente de los ribosomas bacterianos, se han diferenciado mucho de ellos en términos de composición, función y estructura [4].\n",
    "\n",
    "\n",
    "\n",
    "<img src=\"https://image.slidesharecdn.com/mitocondrias-101028144919-phpapp01/85/mitocondrias-12-320.jpg?cb=1659112630\" witdh=350 height=280/>\n",
    "   \n",
    "\n",
    "   Recientemente se ha hablado mucho acerca de la relacion entre los mitoribozomas y el cancer, pues, como se sabe las mitocondrias participan en la apoptósis, ademas, en recientes estudios se ha encontrado alteraciones en los niveles de proteínas del mitoribosoma o factores de ensamblaje asociados con el desarrollo de cánceres [2]. Lo cual tiene sentido puesto que los mitoribozomas tienen mucho que ver dentro de la respiracion celular, de modo que si la célula llega a tener aulguna mutacion (cancer) son las encargadas de generar apoptósis y evitar la propagacion de la mutacion [3].\n",
    "\n",
    "\n",
    "\n",
    "<img src=\"https://www.greberlab.org/uploads/1/3/3/5/133583913/montage_orig.jpg\" width=300 height=240 />\n",
    "\n",
    "\n",
    "\n",
    "### Biopython\n",
    "   Es una asociación internacional de desarrolladores de herramientas Python disponibles gratuitamente para biología molecular computacional. Python es un lenguaje flexible, interpretado y orientado a objetos que se está volviendo cada vez más popular para la computación científica [7]. Biopython tambien es un esfuerzo colaborativo distribuido para desarrollar bibliotecas y aplicaciones de Python que aborden las necesidades del trabajo actual y futuro en bioinformática. El código fuente está disponible bajo la Licencia Biopython , que es extremadamente liberal y compatible con casi todas las licencias del mundo[6].\n",
    "   \n",
    "   \n",
    "<img src=\"data:image/png;base64,iVBORw0KGgoAAAANSUhEUgAAAT4AAACfCAMAAABX0UX9AAACAVBMVEX////+AAAAAAD/0UA3b54AAP4A9AD///3//v9bW1sA/wAAugCNg40C+AD///wAgwDBvcJmX2UAzQAyDDPh4eEA5AAAIwBRPlPt6+2JfoYAPwDJyck3b6D/0T1eXl6ZmZl6enq6uroBogCMjIxoaGjX19f19fUDAKYB7gAAmgABAPCurq4AAAYBMzCjo6MtSywBRxoAsQADAIoAjQAwPTBvb2+qq/uwqbCmnqaVlZX+eXv8q6u1tbVQUFD/zjQARwACAtgAADH/zkgAACaxxNf/m5rb5vBNAADWAwT+1VIG2AD/9ttQfqMEAZb+5JYhISEANQA3NzcAAEOovtEBADj+7LgEAWQAAK/822MAABS1EhH/3HzAAgT88s7G1d/++esCAlfpAwU/Pz4PFhcyPDmJqsRxl7z823P87aoxMyxBQTUmMS0AAcGsk4/IoqLOqKbSj5DPfHu/YmTHxeCfntampc6JjNRwcsheX7tIR6sDAX7RhoqiNzn9TkyWAAAWAwJkAgDExf+Qlft0dP06O/v/a2j/ODUsAgYGXwP80xn+i435dXIBAnD/V1Z+AgUfACA/AweJmI/JtlrdxlFVRFk1c5WRm32zrG89UExafppJO0AAIizHeXdwh4QgYpzCUVIyAAgAFQEAHze2KSpULDEAEgACSDPb0JKwpnUBNDFeAwSh8Z16AAAgAElEQVR4nO1di3sT15UfX9m+I6eeJFSkCpZkGT0w8kTdmFVSN7YA4xUIGRtDDCZgy4/4kQYoybbdLtsC22xKSAnNoySl2WjT7mbb5a/cc+5j5t47I1km+b5N9pvzpcWWNUdzf/M7z/uQZUUSSSSRRBJJJJFEEkkkkUQSSSSRRBJJJJFEEkkkkUQSSSSRRBJJJJFEEkkkkUQSSSSRRBJJJN+MFJnYlO7lmkRAkkm7q0vhc7r6JLghfCd7L2g2ruF/wHvuRhn1/kkGbrso9OwqgUv5xW8srK+vT4Hk85Vsbiy5u6JEbp0ExCXPWE53w7CoszuG1EHQbPgXf+ZoqXrgfw6iRx2nsyr8KNtuNh3UVgnc9kJ2okB3B3AkPx8cM5myAhpzxc6KihPwpo3XuQDyr0ssx6xO/AMyOVZxZXNra3Om1sX9OjbA0ly8vL20fXnZ0dGmlgO6ZpiuZGcCcg435+rTSztwA7k3fsJk/Sc/eUNBYWiXmylMwbveXFjgQ4b/vSmuhA+APx1jcvXimfFVQtYTnTQl4O0L2WvXr1//6Y0bb7399ttvvfXYJa5LyE87s4/CgGdbqd5UKtXaWtnd6GzLmYtVY7FqNV2tL+pvp7S42dtKofRu1jrDB5+0XK/G0tXqUtP6x5/9/Oc/+8U//fKXv/zFPx9nAJwbvwk/DHe8nWHgS/za9Z/CoG/8Cwz57Ru/4ugt4CfMkwt9nlw9TuYL7TUNwVPIXv8HkPd/vdbD5NZtAO/OlbVXDLQosz5uaDiK2myqFwRGDP/bLHYiIBt0Y6kam46lYyDpe9tNwTLu71Z6pS74b0Z8TFANM39rkSmZnq4uWf/6m3f+jY+zdAGGf2n8WAl+HCck24HEYJ/xa6/gmN/9LR/yqZNw8RsTCWZuCUIO+fiVVsl8W/6NEPJHpunHQlHP2mMX0DsFP5nwLV9uemiA3YgRC0nNJq22TsvB/5ZjqlTry9w3oC+0zqcUXfAswr0GQ5paO9V0rB5LA4T3mr8pSZZcAgDG5W8XwWe1ux07QzayN5AvH4gh91xBV1/xnNwkmK+C3wWy0Mb/Afcy1xnzpKZTd8FwXzzQE4DPspZxyNyewVXNqCMW+LUT8HvWYjWdVvFLp5clKtZmS1fV2gxnH5M5QG9umRG52nxHjPEQRg1lzFcJKbe5Pk/mc0iYd9fkmB/Ate8dzPlvqZBX+xT8XiWZUE0FQvKI3rs9Hnq3iXv29EAIfJQ278WmG4wygOGKDh6MuXe2bYwCHgB6MV3SsYaPnvEsWpsd0AO7TS+lY9X0dNoR8J1B+pCrcrwcz/D4kSXzE4De+7/tUdE7MvjU9/z3FDfIGRW/sGdBreQCiSN6v/bRA+q9N9o/cDQMPgr3W2+gW6JWjQHGfBUfOnr9LbuNv7GtZaAe93o+B6tLPFmZSfV6fkD+2Dof5rvglcXqNGiYBm1zl6t16x1mruMA3sHD5FJJGfNNshBmDmWygej9zhtyzx24+MUBDT60SoXK6AvM8AFwZMj6NXgOaz56twl5b7C/f+DAWtB4bWsJEFhqQl7mFEXUYGE3JYDsTZ1vFz2cOscOIawyJKcRvzn0AjWPeCn+IPgvK5QGAj+8sCTRr85tw/XvCO6RwwP9R8l9lTLnSCV4I4BLDvzeBz56wD3y1EC/Bp8DFr6q6Oq7jxmhIRNkfhhihq9p7a5LfnCEwfcgCB+15tLp6eplJMwmgwzh6z2/suWPvxYefu05brrT0+nqXGO7GmOOH3zXskXhSchHMTszw35hqmeLQfjAidYlfHArcPk7nBtk4fRg/2nffFGOETJiXp+cJ89eV82t55ZL5n8/0D9qwJck5KL6LE6Q4eCDyL6isrjnQ5fknzkCugYOuKdC4EP/NQ2PHByf8FWp2Rp82Izns2bD6QeOng+5Or0sLHma/V53rE3ParfAdxa3JP1SmwFVFCKQxz7QUXUQPogSZLKyDx7605rHB/c3b3pjsDdAz3d7Pa+Byyx8f7B/UIMPPqdMTqi64EMSmjcpMsf3roLeHciw7WeeBvYNHiAfInxa/gCxg9EmvVjkvOPooSecka4fXVbAZ1E25jQCVofQA8Vbo8od4XR6rpYSjyK1xbPJLflkUiumLmrbLHJw8qXTSxaEDvDrwIxn9wGB9msJW1/fKmR/mgJwfNc09E4h9Nb3+/t140VZ0KIHmG9eqyKy5E0dvVuEzCctBt/AgUvkSgA+x+aPvn6+JUbYWxN/2/Rcf82sfh1093y8sXRD3MJOVXLoo5bMe0TcEW6Vmy81ixOFfbH0jkXf6TtB0Mc9uw9ue//v9ehxzPD4kA9XXlHRQ28FRhkK3zOEGLrUSI4+9BXVciF1xA/j8J0tk9sAn/7sKaZc4HJiH/PioDc1IzslngMDDjm6/4N6VsTcWHUHzcLCKHS5KjD4RMaLmsCK1rwwfB6bA4oqIK50A0jde00w3vtgMvA2Dt8f4uSmSplx3ePHyfoNFb0eqE7zVhv4rCklEpUwPq37fwPTnbqhord2F3sEVMD3nP0GuWX4PgiSDci18LF/lEo9RO8kgaIyfKZ6WysWNeC7LIe85KDl4mtOU1pv+tPWQ7x2xvIixYwXimo6fIBf3U8bMW5bv4CHnqQefAU94ShdUqPHGCHXNPQgbLB6Ihw+U9dxMHMpEHWvva9o6rnj8jJRwIfVnG68NnUoraMJgsd/yFKWouPjd17kHGByfrGETSrakOhVG5ZIRiiGIQQQ/gNdmDL6fUNKZSiH6EH9W8Cfd0TWCB54exkBzzKbkvD9ABIONXmB6LEumkE2Rt38K0rM7bniYjxoCx/XVVJ0ebVbAaOu+iBe4w/Cg49a6+RlUx+k/OLuP2sx0/UZ5lhbKVH1+y9jH9Cxt+WI5xRFjiVejgH9OM98ZX4mWNP8B23WhclX55q2hUzOkpylwpcIUGZMdmiz5PXrqq/v+VIWE23gM3T1nfNqjzz543UVvbXb3Msq8A2F9fskk9KPepEw0tzwCXtjRo+vwMqqU3aNralrSlX1FHMDPkhA5ZYIvv7r7N8dEbHTl9GVIMuz85YGH5SrGv0uQvLCbwcYk9Ps7QF3fO3hA8AVXSVIXuZ5HTNENoa1B/GYkAlLhQ9G+qdyAD5KReBLf9zCvML2Xre8VFpjJVR4S9J0F1V11PJTEKBfUf9bcVao8lmJzZam5/cajm2z6Yh8woAvSJkJfv0Uid9YU4aMOUuyM3xJQ9cqUB0+014n+bdU9F6D8FXU4IN3DZUDGZxjS+cTe7RlOapfsmhSwNc768h8DUOl9FZLIuqK91OrKa33E8gWjQpjRYTj1KYldaHnqzJvCREce/4sQhUsHT600QvqkK+SDQbSCKR8quPr+ZB4oaAdfKBrVdcFYQpD0JvX1AchTVdjn20Fm6w45jTPuT5bUeFjf5PJH/KSD9mRLg7SnWVHb0I50pFCIK85ZoI3KyO57N3jHIgonKdjjoG2Cp9JmQvMO0KmUVETDcV0O8AndK2+CnL8DKefVZwn2Q80VYTk5H0o8IVJ7WMOXywGSZc2Bor042PekjNqjtMQI05vs6afBt9QlecusSVqm3CsyGx6U+qiPPvm6aMBtwKfY+UYZa6ewDGfK2G+m8R6Y+GGOmTFdDvAx3WVPt8/un/0xfE+ritHXv93VRUkzLI43A0+uvmFyNdikHVR7T2OSj+Z+0mG3Ws4hoFSmhKPgjVOjQwdvJ/oXhW9hEb43ek0NRvJCnxUUObQkf7R0f1/V+L0S26QrBoqe06qLby28NEkdiFKfxmFohjhQ13wUlY1XfQCI959dIav2Ep9kuYFZ71pTCWL1lOKla/8T3ZTer5tPs+rykzrkfQE28anUerlzqnzYlITvKhIl3dwKsRwHB58jH7g/S4ehhdGET6kDDDmbY0xLpnyGd+efYx+AF+/gO8Ymc+Q1//DiBsejzvDh8lx6lOcaGD+22hOUd/7ebWwjK7V5aC22VTrY9lDbQT+yujHnkZRsG9bxt1m4M2q7xMe6+IRCR9QJjNPKpqz/5LwILorfEzX5x58oIu4uqrb7p+7gw9MCoNhvSqbTbZpQjXP+4kpkZiw3XrwxsC7pR7d8/K4QHfqvGjqyB6sDOHVuaAuHT4WfBX4gH5kXWPMLdf9c84fYQf4WO6nwAe6/vgrI24cOdoNfCydhaL2b2kvkdOHALIlm02cfosizdVzPi741tQnMeHOgoySuZ+cQrnM4UtXG2FNfA0+pIwCH1Bm41mNMYDnwed94+kEH+r6iwrfxp+0EAQPYrBb+NiAHoqyPY1TFb7/Yz/UZPNukzU3WaaBZbJtRGmL1lrI5C/uxSSlzEU59Lz0BCwNbwj0mBfdBT6kzFUFvvvk9f/UGOO6h/c93x37UJcCn6nqDnEPDhzoAj7qcHeean0m87Vly1jbQi2vcZ+0HDXTsA34+BtTkn6xepNSA+KkLHxn8S9zMmVeDp1C0uFLkEs3DyvGazCGkOdGn3rev7wjfFDGfK6Ejo3/MlSdHe0OPmrNcsOclfBtW0YG4edrLWy1ywov3QykzLLB9ZFIRng41XVtisojtULthsxxluyQKSQDPgqV7wkJXwkY8+Zr6pgfE/fFga7hs/Lkuf0SvvvkBU0V5D9PDXYFn0VXZBv9Yzlt1rD1oQAAXrlQtJZlYxgbcwb7vBSxLlTVHSMVdjj9WDeLeq0eKF5CZjAD8AFljviJi84YSHOPAlpdw1cArgr4gqrco9ib7wY+R9bxqWbVC4J6AgYArMiZsvNeS6ratAx1TlGA3Jpl0SXNoov+KHA+jyfOqd6a6K6mp5dsvtamM3yUPuvDd598bjDGfWpwD/BZma8k+4Lkc+FzuzPeFdlR2bQucz+UhhTMbMxj257PIsk1LWGZhl+fNGMCmaVA7LBk2z61uSPJtxjUFYTPQspI4w0h33v9e2GfNUQE+wKqXPfsaLfsk1OIrZo/8cjmudVhUG+1D0QYwdFmwNiK3myQllkH5oW8PEjM7qbr4csYgvBZz0r23TQ834cuOTiwJ/jsvxfsu2nwGFSd3d8lfCzTQNmCMLokOFM38jXArygD5iMBy+XgMkGZk7RmqCXsMli5sWVrAuZP702HpJqd4HtZwAd5rkk+cnBwT/AVBXwlQu6qqqBcm/phN/DhI/czYiqmHnHMO0atj10F6dc+ZpMZ1YaZtFDLIx8a7JysixuaLvb5ci1IL6df3QkpJTvDd5MQkzHPPyF846YqQoa6g48q7QC2Wq8+nZb5mvlpXuX2BcNl22hG2TaVa9sgvFiOPwFwma2R1mSmxdND9ATT6epOmyV77eG7CoxZ0xlTefnwE8F3/1KAfJViV/DJZlSKzYNTr/cWak7eRFnrE1xIsWyZfS2r10tu2PJuOZGJ9DNasLxxgMtf2KqMph2OX1v4/vuCwZgvCUn86Mngu0TILYN8ie7go7QoCfOIm58Tk+VCMIetyU77R+l0dckJtElX5ETQeYvNdC6LFiJ4yUAeJOY/kX7TEKjMptdu8B11dfJdwVW7e4dvtH+w/0XXDZDPSnYFn+M7e9aIt6mcd2CphNms2+JLYFJAP2wWmEPeEsadYq0o4NuS6FvFGjq7KGXLF9iChkdYvNh79X1HiRtgzBPAh+w7EkK+LuGj0t56Z/nvjuXna46xqoDSld6HnICfpoPktGqSyHwFKVy+LNbtYoZo5kGbD3m+BIEoJH/cDb6vyG3T81lPBl9AlYuquoNP9n5TqRnKW7+On68tmrUq5msi96uHZBpb0vXVGFS4cGNJer+mDh+bv3vIo+8X94JNrV3gGzjskgcBxjyZ8Rqq1riqLuHrlUsYbTkDSRX6BSxKLrpPfRocck0uz9qyBHwQiGR5ZxIMPm1T6Gr91Q4yuSN8g6PPERIk3xPBZ6q6guSzu4APq/2ZlPBmYsUx5SvtRP9yWffouIDlkahQUvr6RJy22OqVIZzDx/yZt+ysabHpCvl+iCR/lfRrv1q8HXwHQ8n3JMY7+CIhdwxVcfDTXbAP2CELid6asptKrHHEVYraUBy7Wf8s1RLB1ZgOwTapWFmplsuLcr0aqwK9123qNO59IXcttN9cFg7f6Fm+P0UJu2yN3hOwb/As0VW5oOuZbowXxsKWnKQYAVT7uew1kSzLUrvOi9XpWZHZ6fSTPUO+dlRdCiOLWqSfn7ywpPATWcWs7A2+AUg1TPKx9X5PAJ9JvpPEXUVdXcDHCMPBqFF/6wGlDWlxWHr4WAD50um/qasslGHOtGQerFq8SMMhf8Hcz3tEmBNCUP5IMHlrb/D1HyAm+c4dR/o9AXxHXZN8F0onQFdn+BgqNW+1rA6Fg/Rj2zSqO4J94BJt0UPpZS4rpSy2xxyv2JK7QLRVlOBfcZcVtgX4DIAAj2JvIvaJ8JbelGV38O1z3ccG+Y6dIXH6BPA95ZKTOvnIsb5xEt+NfZD2z3o7fgxDtB3ZNk3HGhILx6ENlk7/rSXag7NiDsPGZvyWXDmlM8mxbbn8J12nogeGGdAO66V+Kug3E9IpbQff2JH3CLmik+8CLjcdegL4IPvWVLls7Qbo2qVoKz5seeClzusPv+kFXy95gXzGpkts11RdzjO2xDwtVdxAb0vfdIoLOJZEJILkRawJsrCZxRY0POJxf6td5hLGvvcMxjxmuz5wtfNe4bMXiPthUFXfGTLViX1wK5staTiMRnp1AaWHbLzIisDBVWR8Fv2zlOxOc6iw9BVxI5iEUL8J4a9IAEiFd/1Y3EOxzS7JMPYRVyPfKcJWDiFl9tpxQfgMVefYgskTZKwDfJT1RrwdMIEdz8qYIfraWLzZuO1UIPpILhOYRT/psDUcIn/sNaZ7cBmlt4iXJX9s4khuX0inN9lSfriFPcBHNMbcEVuOgDJ7ZV/CUPVY7l46QxZ+2LZZT+UqRcGYWtBxo2uX4bfBlns25PLJ6nbCs9RNTIAdf8V8ayY4W0apXE40Xd3ma7fkNDEWIyx8+Uv5d4cvq3u+Uy5nDFLmD3tsl2b1ppckH9PVfq7D4TM6/oaX4PSH7U3+x6r1Bvy+LNYxs+bdpkxe+PbSTe9ZzFohJ0fYHlyIn8N3PUvPymeNUrM02PgPhw8Y86VGPlfudzu012Z90ujR3/G3zl1sP9eBNzqrsK8VclwB1Ks7csyx9E4DQwmfgsNcxuGUgf9rza7UZiUZU8GdRww+x8a9gmy7frW+2LhcTXMnCk8C3s861Kk2hUcQPpMxknyMMnuDL0fcNqr6Ssfbsg/srQjRVlYP4HhCepUwrm3R+MMzHkTyAQhsY+fOa02x2W7vn82wmW6LBdqq7ENwXRh2RShmUyhwD93AZ3diDNBvT/AVid6pAh77ey0vdjJecH0rYvTqMk9dsMaIKcKGnG4yqP39QZJ5zHTbnm+ibLmKyTiS3hYdna0U5k7dwIeM0XqbwJhXvf0tpVf3BN+EoQo8n79VpvRCW+PlU7ay19K7Euaw2JiNXfbp6emY3Pq3lTLQA40dTrmhc4Et+3jaCIrD8NsMvwUTPpMxD1TG9J3ZC3wBVfoxGy+0Y59cLJqaLWLqvNIm6FkmZ9Ks8OI1nLdC3gdwtmiuqlTE9tZCe6oAPV4EOzgHtdUdfAZj1gg5ruyOPLQX+IYDql4tdQUfJs287GKVa5i/YkN2xLkq4piCaX7ECCuZqWVv8YxNRo2O6FGxaTMmdptz7sm3A4jnu2Nf0e1Evj3BB+QjBvlOHOsOProi/F7vbC1MtRgV7rRkFRcYLR4OstTwdl/ZYpLJS/iCO8R1XVBIL07HxGZzjBpakRsackLgA8ZojXWXkHF1b98e4CsHVal7XtvDxyZ3WyxabuG+5PYWB/g1d+oQK2G81fqOrTby4KfaVosF3M4ewMPPaszBM8CIm15aNlYgtbsLHb7iBnEN8mlnvOwBPjtIvqy67aYTfLjIBKvUGbYBql257uCmU6DZ8txSfWlu0dF2p1F+5ssmqJndXKFO+4OGxAUO7uBtLl5GXcu8DDSR2hW+MtHapOCuFqZUyuwBvhBVRXXTYXv4eL/PqrFarQNpmJkrb7DVAI3jZ4gJe97lnDp2Spbaq7cCs3i7wwfkMxlT1jYKSvh2X9tMbwdV4dbMqwZ8Oe8+dtmU9e0UDT7TXSFjtI2CHD7XPySnLXyGqlN803PO3yjI4Tsqj0zQ4Ovi4MRviajwFecDnq/MauCrOnzKITnt4AvxfD+Cl5Mb/nFPAr4peR++70u0O0Pr2ycqfEHyvYGV8oRfqQr4/JMx2sE3rHu+U0Rsxy97uZ8wXldskFP38+a/i/BhzucajGHjAFJe1OC75B+S0wY+M+e7g4dlsD8ssMqj5MF3SByKoMCXEO/9dot86h58Rs7nMcYaIydKKnzjeEgOlzbwGYXzFeIdRTIiz4sRxlsSZ1wp8OUl1JNhXaJvMLDYIx0PB+0sFYafD5/JmMdyz7hjT5FxBb594/7BNuHwmapOKuaegeSlpMAnzrjy4StIppanQlg4lP3mLHtoKvvkF2eZ1fjwBRkzJR+1d6icYF/fuNin3wa+rL64DVTFvb/JSCThw336Q5hVyXNcMoT8nH3wcDwIn13JZL4GZSw8rtc7n2Yonn1SLbb1PFlgmaI4Bsfsj3zoMQaGJk8mkPD1rYpTIUPhSxiqvtROYZrg0cODr+8mulIJ39lnCDn+Em0HH7yY3eU4412kEPdOEvga8DnWj3G5qO3B97xOvteIemxmcp73moTxsmk3ZkSh8GV08t0i/tkHFjtN46YGX985EvfYd+BPwM6XWNMuFD478fXQ+2bgg1Lmd5DKvgz3yeH7vt5k9o+44DLJS18PPjz5DxkVBt+QPlmyBgFdszdee5T+Z3RQwAfPIiePADuAs0kvOW3h+9ryjbEPGVaQJ6gRfYbjgesFVyaUnwl56ODAIIcP3B/uBA+Dz5jbvYOn3GkFYw4jeemF0/v37z/AwvBVjBYMvtGvXHCzHYz3a8s3Bx+MDCLAs/tw8bs+IQvEnNcrJzDfMwDfYRgy354L7g+S6hD4IPlWF8hcgXLNSDYgkl/oK11YXb1wYZVnMXjaLMI3+LSLlv0SQ7uM8CUnJ3K5sm8ISeXnBPvbkG7NiTF4cUzQvVhWj76DX4rFoUwev5gAf0f47EI5l5uY1AZr6k2Uk1ZxBF4b9l6jCB/EhwUnD+wb/bO+pOokCaSuI+yYAzZkfrhh6TiE5iB8SaKpQi9gnMPrYGzRDkhkJ9B+78jA4D5C3FKfwr6xTDwO/8Vz0vxHpmSToTiMfwCpKPoTOf6auACo5j+6oam8nZeS5PAlxfvzY977PL1ZqXd4aqxQ0T+Lw7d2l0yB8Q48rddYt0jIcctZL3nu43XDsRMkG4Qvroegxy553tRE8Vnw2rdUEiet3SfkyMDoAd7clvCVJ6Yqk4VEYawSzwvSjcQFfMlsPF8uJBIjuUzGe9SFfLwyxi7I8Auycf8YPfjZzmaz+Xwum80x+DKVSjw3UiigDnnAaoje4Uw2kx8eArXZjNDH4WPkON2/z3XVTAPXkgaTKzC5VZ0yx1xCTPggxtzVH8R6IFQ6rCw5piu7D/Ad4atpJHyZSnyYX1ycyOSTGnx2Lp4V9ziSzwhOJPPxCf0CQEh+aiKewb+pvi+Tz4srRzIZjksxm5F6JzNC73AmL14DZmaSCnx4Gsi+wbOuGjcQ0jCnnZjXT+Vjh2MM6vCh6V7RH0Toqf+0onWxUW4ePu0yUEsefBn/OPJcZkKDbyRe8fzVZEac+j6RyXk2mIuzCyrxIe8Flmpp8GU8bo7Fs7apd0zoHVZS9WymrMIHYJ0+oi1IWzvphh3bbLGM46Y+5GOuAd+U5gVwHXOb6GnHySUdv6tPH5AzmR58vkdPxDn9BHy2apXyl2ReqUgS+XiSvT/Lf0/G40UTvrh/2H6RX1vMxn1PaotfhsWjY9dk8hp8PXcOE1fptKzdCbM3Ls8E8Duuw5fTTBePJp4I1+TQYkY/3xmyF1w6WVLhyypXiKEI+JLSmJlMcqYNxZXD84FtDNNKnNNfYtAmcQFnMMT0VpSxj8WZR1QzKPAPRR2+r9TlfGvg6+cToRMD1EGXf6Gkw6dOfkyq1doaHiqeC9Ej1VUIua8Q8Iw/pfySY961SGM8+ApaylbglleOl0Mu4A+hmIknOsEn0C5oTwB+MxPQIiM1PF4J311lFf3albtu5+8o2SAnVM68ehrk4CWeJkC5QU7eegBy5/Hjk6Q991D43MCl+1f598scu4jkGx8fv3n/wurLomibVN4/xrEJhS/BC+Gyhvckv8DOM/qNSVw6wzdkwJcNhw+KtvdPMQFbJQ/YkGHMd/EQ9l2/IefcoWNSVs+dO7eK3zUzBUhtGN9VNN/5i3so+Cftu5K8n/ihqTqZBJgCvoTw9BIHxpJyRj3eXYI5iVcIEHeFr2DqtULhg4f/BbtlV71tlN0aGnRM+6In173kMgUblqUiN7+QKe9e3NNCLj+FX6+lwzjJfB94duWtlQwbv4CvmM8rT7nMfVQ5o45dBgEYcEKasLUbfMm86lOH+QMMYR9EefO2N+YXprIdDNfTMFmJr6+L7xRb5z9BLgqUUL5qrdhFY4RPnbIvd1O/ugwu5n+IZ/y7kVFSJi45hZpJkZ2UZaLGLshkxC2g3fr5S8IvRELgg3+0MMFuIIR9/L7tRMhtdyNFXbq+bk9S9nMwSEN4oiLhK2TyHlQTgnXlTN67ACCVY4acZCzjUc72MQ6Dr5CR9Q0EY5FGhsP37ZdspsLHMlSRLt0r2sbieT4XkshlhCGD8eZFUTpUyfheCMDz82MEuVBksITBB88sP2Lo/a7CB0lsJlseK2fjcfmVeR58MM54ZXisnIMytyBfKQ9l4uwC+McfJTjKjK0ozWSybMYkFL4Qvd9V+Cx7knc6sv78xJQXXQs51hrJl+V4MFQn+IuVMdX3ZjNqRlMczscZcIUpJUsZ9r7gb9AuF/4AAACySURBVCjLmzBe6CtPKRUOT5u/K1JMDI0MKQ16u6D8nBwaGVF+55mO8SJIImMMOVngb0goRCr6YcrUWywoAT359WaqvsWiJ4q+DMfNr/uJJETawAf12nfHXf0fShv4xuIdKu9IPAmHz6/XIuko4fCNaN2FSNrKyFTg2+UsTDt2+8rhSLiERgj7/22mEUkkkUQSSSSRRBJJJJFEEkkkkUQSSSSRRBJJJJFEEkkkkUTyNeV/AW8NI1id/nW5AAAAAElFTkSuQmCC\" width=300 height=240 />"
   ]
  },
  {
   "cell_type": "markdown",
   "id": "2c947eb3",
   "metadata": {},
   "source": [
    "## Ejercicio 1 [1 punto] \n",
    "### Crear un repositorio de nombre “2022I_Recuperacion”. Generar un Readme con los detalles de las actividades, del equipo utilizado y de los programas utilizados. Mantenga un control de cambios. "
   ]
  },
  {
   "cell_type": "markdown",
   "id": "3baea6ed",
   "metadata": {},
   "source": [
    "Enlace del repositorio: https://github.com/Andres-Mateo/2022I_Recuperacion"
   ]
  },
  {
   "cell_type": "markdown",
   "id": "9fc60342",
   "metadata": {},
   "source": [
    "## Ejercicio 2 [1 punto] \n",
    "#### Con el grupo de componentes ribosomales seleccionado, realizar una búsqueda con Python de la información para cada componente (formato gdb) y separar en secuencias para células humanas sanas y cancerosas."
   ]
  },
  {
   "cell_type": "code",
   "execution_count": 14,
   "id": "e2a65cbf",
   "metadata": {},
   "outputs": [],
   "source": [
    "from Bio import Entrez\n",
    "from Bio import SeqIO\n",
    "import re\n",
    "import os"
   ]
  },
  {
   "cell_type": "code",
   "execution_count": 100,
   "id": "68488910",
   "metadata": {},
   "outputs": [],
   "source": [
    "records = [] \n",
    "seq_cell_sana = []\n",
    "comments = []\n",
    "comentarios=[]\n",
    "id_enfermas = []\n",
    "id_sanas = []\n",
    "out_sequence = []\n",
    "cell_enfermas = []\n",
    "cell_sanas = []\n",
    "len_sequences=[]"
   ]
  },
  {
   "cell_type": "code",
   "execution_count": 98,
   "id": "8a4fc382",
   "metadata": {},
   "outputs": [],
   "source": [
    "ID=[\"AB051627.1\", \"NM_018141.4\", \"AB051349.1\", \"Y11681.1\", \"AB049946.1\", \"AB051350.1\", \"AB051351\", \"AB051352.1\", \n",
    "    \"AB049952.1\", \"AF100761\", \"NM_001297767\", \"AB051353\", \"AF226045\", \"AB061206\", \"AB061207\", \"AB061208\", \"AB051354\"]"
   ]
  },
  {
   "cell_type": "code",
   "execution_count": 101,
   "id": "4b47331c",
   "metadata": {},
   "outputs": [
    {
     "name": "stdout",
     "output_type": "stream",
     "text": [
      "sana\n",
      "sana\n",
      "sana\n",
      "sana\n",
      "sana\n",
      "sana\n",
      "sana\n",
      "sana\n",
      "sana\n",
      "sana\n",
      "sana\n",
      "sana\n",
      "sana\n",
      "sana\n",
      "sana\n",
      "sana\n",
      "sana\n"
     ]
    }
   ],
   "source": [
    "Entrez.email = \"andres.benalcazar@est.ikiam.edu.ec\" \n",
    "with Entrez.efetch( db=\"nucleotide\", rettype=\"gb\", retmode=\"text\", id= ID) as handle:\n",
    "  \n",
    "    for seq_record in SeqIO.parse(handle, \"gb\"):\n",
    "        seq = seq_record.seq\n",
    "        record = seq_record.annotations\n",
    "        records.append(record)\n",
    "        \n",
    "        if \"cancer\" in record:\n",
    "            cell_enfermas.append(len(seq_record))\n",
    "            len_sequences.append(repr(seq))\n",
    "            id_enfermas.append(seq)\n",
    "            comments.append(record[\"comment\"])\n",
    "            print(\"celula infectada con cancer\")\n",
    "        else: \n",
    "            cell_sanas.append(len(seq_record))\n",
    "            seq_cell_sana.append(repr(seq_record.seq))\n",
    "            id_sanas.append(seq_record.id)\n",
    "            print(\"sana\")\n",
    "        \n",
    "Total_seq = seq_cell_sana + len_sequences\n",
    "Total_id = id_enfermas + id_sanas"
   ]
  },
  {
   "cell_type": "code",
   "execution_count": 138,
   "id": "4b973885",
   "metadata": {},
   "outputs": [],
   "source": [
    "from Bio import Entrez\n",
    "\n",
    "out_sequence = open(\"MPRS_secuencias.fasta\", \"w\")\n",
    "\n",
    "for linea in Total_seq :  \n",
    "    Entrez.email=\"andres.benalcazar@est.ikiam.edu.ec\"\n",
    "    handle=Entrez.efetch(db=\"nucleotide\" ,id=ID ,rettype=\"fasta\", retmode=\"text\")\n",
    "    data=(handle.read())\n",
    "    out_sequence.write(data)\n",
    "out_sequence.close()"
   ]
  },
  {
   "cell_type": "code",
   "execution_count": 139,
   "id": "8ba64832",
   "metadata": {},
   "outputs": [
    {
     "name": "stdout",
     "output_type": "stream",
     "text": [
      "De lo consultado, existen 17 secuencias que van hacer analizadas\n",
      "de las cuales 0 son secuencias de celulas dañadas o con cancer\n",
      "y 17 son secuencias de células sanas\n"
     ]
    }
   ],
   "source": [
    "print (\"De lo consultado, existen\", len(records), \"secuencias que van hacer analizadas\")\n",
    "\n",
    "print (\"de las cuales\", len(len_sequences), \"son secuencias de celulas dañadas o con cancer\") \n",
    "\n",
    "print (\"y\", len(seq_cell_sana), \"son secuencias de células sanas\")\n"
   ]
  },
  {
   "cell_type": "code",
   "execution_count": null,
   "id": "aeb9302c",
   "metadata": {},
   "outputs": [],
   "source": []
  },
  {
   "cell_type": "markdown",
   "id": "72c25b6f",
   "metadata": {},
   "source": [
    "## Ejercicio 3 [1 punto] \n",
    "### Realizar un histograma (matplotlib) para cada componente con el número de nucleótidos de las secuencias. Explique los hallazgos. "
   ]
  },
  {
   "cell_type": "code",
   "execution_count": 105,
   "id": "c3a61ebc",
   "metadata": {},
   "outputs": [],
   "source": [
    "import matplotlib.pyplot as plt\n",
    "import matplotlib.mlab as mlab"
   ]
  },
  {
   "cell_type": "code",
   "execution_count": 129,
   "id": "f7a7a37d",
   "metadata": {},
   "outputs": [
    {
     "data": {
      "image/png": "[encoded data removed]",
      "text/plain": [
       "<Figure size 432x288 with 1 Axes>"
      ]
     },
     "metadata": {
      "needs_background": "light"
     },
     "output_type": "display_data"
    }
   ],
   "source": [
    "plt.title('Comparacion de Sanas vs cancer')\n",
    "plt.xlabel('total hallazgos', fontsize = 14, rotation = 0)\n",
    "plt.ylabel('Frecuencia', fontsize = 14, rotation = 90) \n",
    "plt.hist(Total_seq,bins = 16, color = \"#F2AB6D\", rwidth=0.3)\n",
    "plt.show()"
   ]
  },
  {
   "cell_type": "markdown",
   "id": "0899bf97",
   "metadata": {},
   "source": [
    "como se puede observar en el histograma, la cantidad de celulas con cancer es 0, lo que quiere decir que todas las celulas estan sanas, ademas, se puede obvervar un valor sobresaliendo, este valor indica que de todas las secuencias analizadas hay una que se repite, la cual haciendo su respectiva busqueda son las MPRS15A y MPRS108B."
   ]
  },
  {
   "cell_type": "code",
   "execution_count": 122,
   "id": "1c0fe724",
   "metadata": {
    "scrolled": true
   },
   "outputs": [
    {
     "name": "stderr",
     "output_type": "stream",
     "text": [
      "C:\\Users\\User\\anaconda3\\lib\\site-packages\\seaborn\\_decorators.py:36: FutureWarning: Pass the following variable as a keyword arg: x. From version 0.12, the only valid positional argument will be `data`, and passing other arguments without an explicit keyword will result in an error or misinterpretation.\n",
      "  warnings.warn(\n"
     ]
    },
    {
     "data": {
      "text/plain": [
       "<AxesSubplot:ylabel='count'>"
      ]
     },
     "execution_count": 122,
     "metadata": {},
     "output_type": "execute_result"
    },
    {
     "data": {
      "image/png": "[encoded data removed]",
      "text/plain": [
       "<Figure size 432x288 with 1 Axes>"
      ]
     },
     "metadata": {
      "needs_background": "light"
     },
     "output_type": "display_data"
    }
   ],
   "source": [
    "import seaborn as sns\n",
    "sns.countplot(Total_seq, palette = \"ocean\")"
   ]
  },
  {
   "cell_type": "markdown",
   "id": "1faaf652",
   "metadata": {},
   "source": [
    "Como se menciono anteriormente no hay registro de cancer. Esta grafica nos indica que todas son sanas y cada secuencia es diferente (exceptiuando por la que ya se hablo anteriormente). La gama de colores se da debido a la paleta usada la cual es ocean."
   ]
  },
  {
   "cell_type": "markdown",
   "id": "24c8666c",
   "metadata": {},
   "source": [
    "## Pregunta 4 [2 puntos]\n",
    "### Realizar un árbol filogenético donde se muestre las secuencias de células normales y las células cancerosas. Explique los hallazgos. "
   ]
  },
  {
   "cell_type": "code",
   "execution_count": 134,
   "id": "c7bfdbc0",
   "metadata": {},
   "outputs": [],
   "source": [
    "from Bio import SeqIO\n",
    "from Bio import AlignIO\n",
    "from Bio import Phylo\n",
    "from Bio.Align.Applications import ClustalwCommandline\n",
    "import os"
   ]
  },
  {
   "cell_type": "code",
   "execution_count": 149,
   "id": "112672f7",
   "metadata": {
    "scrolled": true
   },
   "outputs": [
    {
     "ename": "ApplicationError",
     "evalue": "Non-zero return code 4294967295 from '\"C:\\\\Program Files (x86)\\\\ClustalW2\\\\clustalw2.exe\" -infile=MPRS_secuencias.fasta', message 'ERROR: Multiple sequences found with same name (found AB051627.1 at least twice)!'",
     "output_type": "error",
     "traceback": [
      "\u001b[1;31m---------------------------------------------------------------------------\u001b[0m",
      "\u001b[1;31mApplicationError\u001b[0m                          Traceback (most recent call last)",
      "Input \u001b[1;32mIn [149]\u001b[0m, in \u001b[0;36m<cell line: 4>\u001b[1;34m()\u001b[0m\n\u001b[0;32m      2\u001b[0m clustalw_cline \u001b[38;5;241m=\u001b[39m ClustalwCommandline(clustalw_exe, infile \u001b[38;5;241m=\u001b[39m \u001b[38;5;124m\"\u001b[39m\u001b[38;5;124mMPRS_secuencias.fasta\u001b[39m\u001b[38;5;124m\"\u001b[39m)\n\u001b[0;32m      3\u001b[0m \u001b[38;5;28;01massert\u001b[39;00m os\u001b[38;5;241m.\u001b[39mpath\u001b[38;5;241m.\u001b[39misfile(clustalw_exe), \u001b[38;5;124m\"\u001b[39m\u001b[38;5;124mClustal_W executable is missing or not found\u001b[39m\u001b[38;5;124m\"\u001b[39m\n\u001b[1;32m----> 4\u001b[0m stdout, stderr \u001b[38;5;241m=\u001b[39m \u001b[43mclustalw_cline\u001b[49m\u001b[43m(\u001b[49m\u001b[43m)\u001b[49m\n\u001b[0;32m      5\u001b[0m \u001b[38;5;28mprint\u001b[39m(clustalw_cline)\n",
      "File \u001b[1;32m~\\anaconda3\\lib\\site-packages\\Bio\\Application\\__init__.py:574\u001b[0m, in \u001b[0;36mAbstractCommandline.__call__\u001b[1;34m(self, stdin, stdout, stderr, cwd, env)\u001b[0m\n\u001b[0;32m    571\u001b[0m     stderr_arg\u001b[38;5;241m.\u001b[39mclose()\n\u001b[0;32m    573\u001b[0m \u001b[38;5;28;01mif\u001b[39;00m return_code:\n\u001b[1;32m--> 574\u001b[0m     \u001b[38;5;28;01mraise\u001b[39;00m ApplicationError(return_code, \u001b[38;5;28mstr\u001b[39m(\u001b[38;5;28mself\u001b[39m), stdout_str, stderr_str)\n\u001b[0;32m    575\u001b[0m \u001b[38;5;28;01mreturn\u001b[39;00m stdout_str, stderr_str\n",
      "\u001b[1;31mApplicationError\u001b[0m: Non-zero return code 4294967295 from '\"C:\\\\Program Files (x86)\\\\ClustalW2\\\\clustalw2.exe\" -infile=MPRS_secuencias.fasta', message 'ERROR: Multiple sequences found with same name (found AB051627.1 at least twice)!'"
     ]
    }
   ],
   "source": [
    "clustalw_exe = r\"C:\\Program Files (x86)\\ClustalW2\\clustalw2.exe\"\n",
    "clustalw_cline = ClustalwCommandline(clustalw_exe, infile = \"MPRS_secuencias.fasta\")\n",
    "assert os.path.isfile(clustalw_exe), \"Clustal_W executable is missing or not found\"\n",
    "stdout, stderr = clustalw_cline()\n",
    "print(clustalw_cline)"
   ]
  },
  {
   "cell_type": "code",
   "execution_count": null,
   "id": "0f106379",
   "metadata": {},
   "outputs": [],
   "source": [
    "ClustalAlign = AlignIO.read(\"MPRS_secuencias.aln\", \"clustal\")\n",
    "print(ClustalAlign)"
   ]
  },
  {
   "cell_type": "code",
   "execution_count": null,
   "id": "85c891c0",
   "metadata": {},
   "outputs": [],
   "source": [
    "from Bio import Phylo\n",
    "tree = Phylo.read(\"MPRS_secuencias.dnd\", \"newick\")\n",
    "Phylo.draw_ascii(tree)"
   ]
  },
  {
   "cell_type": "code",
   "execution_count": null,
   "id": "14528c5b",
   "metadata": {},
   "outputs": [],
   "source": [
    "with open(\"MPRS_secuencia.aln\",\"r\") as aln: \n",
    "    alignment = AlignIO.read(aln,\"clustal\")\n",
    "print(type(alignment))"
   ]
  },
  {
   "cell_type": "code",
   "execution_count": null,
   "id": "21c2a6e6",
   "metadata": {},
   "outputs": [],
   "source": [
    "from Bio.Phylo.TreeConstruction import DistanceCalculator \n",
    "calculator = DistanceCalculator('identity')"
   ]
  },
  {
   "cell_type": "code",
   "execution_count": null,
   "id": "92b78884",
   "metadata": {},
   "outputs": [],
   "source": [
    "distance_matrix = calculator.get_distance(alignment)\n",
    "print(distance_matrix)"
   ]
  },
  {
   "cell_type": "code",
   "execution_count": null,
   "id": "6c97c1dd",
   "metadata": {},
   "outputs": [],
   "source": [
    "from Bio.Phylo.TreeConstruction import DistanceTreeConstructor\n",
    "constructor = DistanceTreeConstructor(calculator)"
   ]
  },
  {
   "cell_type": "code",
   "execution_count": null,
   "id": "4d725c94",
   "metadata": {},
   "outputs": [],
   "source": [
    "rag2_tree = constructor.build_tree(alignment)\n",
    "rag2_tree.rooted = True\n",
    "print(rag2_tree)"
   ]
  },
  {
   "cell_type": "code",
   "execution_count": null,
   "id": "b7fba211",
   "metadata": {},
   "outputs": [],
   "source": [
    "rag2_tree = Phylo.read(file=\"data/rag2_tree.xml\", format= \"phyloxml\")\n",
    "\n",
    "import matplotlib\n",
    "import matplotlib.pyplot as plt\n",
    "fig = Phylo.draw(rag2_tree)"
   ]
  },
  {
   "cell_type": "markdown",
   "id": "4dab7d45",
   "metadata": {},
   "source": [
    "## Bibliografia \n",
    "1.  Kampen KR, Sulima SO, Vereecke S, De Keersmaecker K. Hallmarks of ribosomopathies. Nucleic Acids Res. 2020 Feb\n",
    "    20;48(3):1013-1028. doi: 10.1093/nar/gkz637. PMID: 31350888; PMCID: PMC7026650.\n",
    "2.  Kim HJ, Maiti P, Barrientos A. Mitochondrial ribosomes in cancer. Semin Cancer Biol. 2017 Dec;47:67-81. \n",
    "    doi: 10.1016/j.semcancer.2017.04.004. Epub 2017 Apr 23. PMID: 28445780; PMCID: PMC5662495.\n",
    "3.  Kitakawa M, Isono K. The mitochondrial ribosomes. Biochimie. 1991 Jun;73(6):813-25. \n",
    "    doi: 10.1016/0300-9084(91)90061-5. PMID: 1764526.\n",
    "4.  Wilson DN, Doudna Cate JH. The structure and function of the eukaryotic ribosome. Cold Spring Harb Perspect Biol. 2012 May 1;4(5):a011536. doi: 10.1101/cshperspect.a011536. PMID: 22550233; PMCID: PMC3331703.\n",
    "6.  Biopython · Biopython. (s. f.). Biopython.Org. Recuperado 19 de agosto de 2022, de https://biopython.org/\n",
    "7.  Chang, J. (s. f.). Biopython Tutorial and Cookbook. Biopython.Org. Recuperado 19 de agosto de 2022, de http://biopython.org/DIST/docs/tutorial/Tutorial.html#sec3"
   ]
  }
 ],
 "metadata": {
  "kernelspec": {
   "display_name": "Python 3 (ipykernel)",
   "language": "python",
   "name": "python3"
  },
  "language_info": {
   "codemirror_mode": {
    "name": "ipython",
    "version": 3
   },
   "file_extension": ".py",
   "mimetype": "text/x-python",
   "name": "python",
   "nbconvert_exporter": "python",
   "pygments_lexer": "ipython3",
   "version": "3.9.12"
  }
 },
 "nbformat": 4,
 "nbformat_minor": 5
}
